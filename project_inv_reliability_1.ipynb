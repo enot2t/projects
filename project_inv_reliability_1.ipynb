{
 "cells": [
  {
   "cell_type": "markdown",
   "id": "c81daeeb",
   "metadata": {
    "deletable": false,
    "id": "c81daeeb"
   },
   "source": [
    "# Исследование надежности заемщиков\n"
   ]
  },
  {
   "cell_type": "markdown",
   "id": "744d7639",
   "metadata": {
    "deletable": false,
    "id": "744d7639"
   },
   "source": [
    "## Откройте таблицу и изучите общую информацию о данных"
   ]
  },
  {
   "cell_type": "markdown",
   "id": "e7a14c31",
   "metadata": {
    "deletable": false,
    "id": "e7a14c31"
   },
   "source": [
    "**Задание 1. Импортируйте библиотеку pandas. Считайте данные из csv-файла в датафрейм и сохраните в переменную `data`. Путь к файлу:**\n",
    "\n",
    "`/datasets/data.csv`"
   ]
  },
  {
   "cell_type": "code",
   "execution_count": 24,
   "id": "7bcf75c9",
   "metadata": {
    "deletable": false,
    "id": "7bcf75c9"
   },
   "outputs": [],
   "source": [
    "import pandas as pd\n",
    "\n",
    "try:\n",
    "    data = pd.read_csv('/datasets/data.csv')\n",
    "except:\n",
    "    data = pd.read_csv('https://code.s3.yandex.net/datasets/data.csv')"
   ]
  },
  {
   "cell_type": "markdown",
   "id": "b8038fe3",
   "metadata": {
    "deletable": false,
    "id": "b8038fe3"
   },
   "source": [
    "**Задание 2. Выведите первые 20 строчек датафрейма `data` на экран.**"
   ]
  },
  {
   "cell_type": "code",
   "execution_count": 25,
   "id": "2a7cab99",
   "metadata": {
    "deletable": false,
    "id": "2a7cab99",
    "outputId": "1a8f3ef2-d323-4ec2-ddf7-89670b5944c4"
   },
   "outputs": [
    {
     "data": {
      "text/html": [
       "<div>\n",
       "<style scoped>\n",
       "    .dataframe tbody tr th:only-of-type {\n",
       "        vertical-align: middle;\n",
       "    }\n",
       "\n",
       "    .dataframe tbody tr th {\n",
       "        vertical-align: top;\n",
       "    }\n",
       "\n",
       "    .dataframe thead th {\n",
       "        text-align: right;\n",
       "    }\n",
       "</style>\n",
       "<table border=\"1\" class=\"dataframe\">\n",
       "  <thead>\n",
       "    <tr style=\"text-align: right;\">\n",
       "      <th></th>\n",
       "      <th>children</th>\n",
       "      <th>days_employed</th>\n",
       "      <th>dob_years</th>\n",
       "      <th>education</th>\n",
       "      <th>education_id</th>\n",
       "      <th>family_status</th>\n",
       "      <th>family_status_id</th>\n",
       "      <th>gender</th>\n",
       "      <th>income_type</th>\n",
       "      <th>debt</th>\n",
       "      <th>total_income</th>\n",
       "      <th>purpose</th>\n",
       "    </tr>\n",
       "  </thead>\n",
       "  <tbody>\n",
       "    <tr>\n",
       "      <th>0</th>\n",
       "      <td>1</td>\n",
       "      <td>-8437.673028</td>\n",
       "      <td>42</td>\n",
       "      <td>высшее</td>\n",
       "      <td>0</td>\n",
       "      <td>женат / замужем</td>\n",
       "      <td>0</td>\n",
       "      <td>F</td>\n",
       "      <td>сотрудник</td>\n",
       "      <td>0</td>\n",
       "      <td>253875.639453</td>\n",
       "      <td>покупка жилья</td>\n",
       "    </tr>\n",
       "    <tr>\n",
       "      <th>1</th>\n",
       "      <td>1</td>\n",
       "      <td>-4024.803754</td>\n",
       "      <td>36</td>\n",
       "      <td>среднее</td>\n",
       "      <td>1</td>\n",
       "      <td>женат / замужем</td>\n",
       "      <td>0</td>\n",
       "      <td>F</td>\n",
       "      <td>сотрудник</td>\n",
       "      <td>0</td>\n",
       "      <td>112080.014102</td>\n",
       "      <td>приобретение автомобиля</td>\n",
       "    </tr>\n",
       "    <tr>\n",
       "      <th>2</th>\n",
       "      <td>0</td>\n",
       "      <td>-5623.422610</td>\n",
       "      <td>33</td>\n",
       "      <td>Среднее</td>\n",
       "      <td>1</td>\n",
       "      <td>женат / замужем</td>\n",
       "      <td>0</td>\n",
       "      <td>M</td>\n",
       "      <td>сотрудник</td>\n",
       "      <td>0</td>\n",
       "      <td>145885.952297</td>\n",
       "      <td>покупка жилья</td>\n",
       "    </tr>\n",
       "    <tr>\n",
       "      <th>3</th>\n",
       "      <td>3</td>\n",
       "      <td>-4124.747207</td>\n",
       "      <td>32</td>\n",
       "      <td>среднее</td>\n",
       "      <td>1</td>\n",
       "      <td>женат / замужем</td>\n",
       "      <td>0</td>\n",
       "      <td>M</td>\n",
       "      <td>сотрудник</td>\n",
       "      <td>0</td>\n",
       "      <td>267628.550329</td>\n",
       "      <td>дополнительное образование</td>\n",
       "    </tr>\n",
       "    <tr>\n",
       "      <th>4</th>\n",
       "      <td>0</td>\n",
       "      <td>340266.072047</td>\n",
       "      <td>53</td>\n",
       "      <td>среднее</td>\n",
       "      <td>1</td>\n",
       "      <td>гражданский брак</td>\n",
       "      <td>1</td>\n",
       "      <td>F</td>\n",
       "      <td>пенсионер</td>\n",
       "      <td>0</td>\n",
       "      <td>158616.077870</td>\n",
       "      <td>сыграть свадьбу</td>\n",
       "    </tr>\n",
       "    <tr>\n",
       "      <th>5</th>\n",
       "      <td>0</td>\n",
       "      <td>-926.185831</td>\n",
       "      <td>27</td>\n",
       "      <td>высшее</td>\n",
       "      <td>0</td>\n",
       "      <td>гражданский брак</td>\n",
       "      <td>1</td>\n",
       "      <td>M</td>\n",
       "      <td>компаньон</td>\n",
       "      <td>0</td>\n",
       "      <td>255763.565419</td>\n",
       "      <td>покупка жилья</td>\n",
       "    </tr>\n",
       "    <tr>\n",
       "      <th>6</th>\n",
       "      <td>0</td>\n",
       "      <td>-2879.202052</td>\n",
       "      <td>43</td>\n",
       "      <td>высшее</td>\n",
       "      <td>0</td>\n",
       "      <td>женат / замужем</td>\n",
       "      <td>0</td>\n",
       "      <td>F</td>\n",
       "      <td>компаньон</td>\n",
       "      <td>0</td>\n",
       "      <td>240525.971920</td>\n",
       "      <td>операции с жильем</td>\n",
       "    </tr>\n",
       "    <tr>\n",
       "      <th>7</th>\n",
       "      <td>0</td>\n",
       "      <td>-152.779569</td>\n",
       "      <td>50</td>\n",
       "      <td>СРЕДНЕЕ</td>\n",
       "      <td>1</td>\n",
       "      <td>женат / замужем</td>\n",
       "      <td>0</td>\n",
       "      <td>M</td>\n",
       "      <td>сотрудник</td>\n",
       "      <td>0</td>\n",
       "      <td>135823.934197</td>\n",
       "      <td>образование</td>\n",
       "    </tr>\n",
       "    <tr>\n",
       "      <th>8</th>\n",
       "      <td>2</td>\n",
       "      <td>-6929.865299</td>\n",
       "      <td>35</td>\n",
       "      <td>ВЫСШЕЕ</td>\n",
       "      <td>0</td>\n",
       "      <td>гражданский брак</td>\n",
       "      <td>1</td>\n",
       "      <td>F</td>\n",
       "      <td>сотрудник</td>\n",
       "      <td>0</td>\n",
       "      <td>95856.832424</td>\n",
       "      <td>на проведение свадьбы</td>\n",
       "    </tr>\n",
       "    <tr>\n",
       "      <th>9</th>\n",
       "      <td>0</td>\n",
       "      <td>-2188.756445</td>\n",
       "      <td>41</td>\n",
       "      <td>среднее</td>\n",
       "      <td>1</td>\n",
       "      <td>женат / замужем</td>\n",
       "      <td>0</td>\n",
       "      <td>M</td>\n",
       "      <td>сотрудник</td>\n",
       "      <td>0</td>\n",
       "      <td>144425.938277</td>\n",
       "      <td>покупка жилья для семьи</td>\n",
       "    </tr>\n",
       "    <tr>\n",
       "      <th>10</th>\n",
       "      <td>2</td>\n",
       "      <td>-4171.483647</td>\n",
       "      <td>36</td>\n",
       "      <td>высшее</td>\n",
       "      <td>0</td>\n",
       "      <td>женат / замужем</td>\n",
       "      <td>0</td>\n",
       "      <td>M</td>\n",
       "      <td>компаньон</td>\n",
       "      <td>0</td>\n",
       "      <td>113943.491460</td>\n",
       "      <td>покупка недвижимости</td>\n",
       "    </tr>\n",
       "    <tr>\n",
       "      <th>11</th>\n",
       "      <td>0</td>\n",
       "      <td>-792.701887</td>\n",
       "      <td>40</td>\n",
       "      <td>среднее</td>\n",
       "      <td>1</td>\n",
       "      <td>женат / замужем</td>\n",
       "      <td>0</td>\n",
       "      <td>F</td>\n",
       "      <td>сотрудник</td>\n",
       "      <td>0</td>\n",
       "      <td>77069.234271</td>\n",
       "      <td>покупка коммерческой недвижимости</td>\n",
       "    </tr>\n",
       "    <tr>\n",
       "      <th>12</th>\n",
       "      <td>0</td>\n",
       "      <td>NaN</td>\n",
       "      <td>65</td>\n",
       "      <td>среднее</td>\n",
       "      <td>1</td>\n",
       "      <td>гражданский брак</td>\n",
       "      <td>1</td>\n",
       "      <td>M</td>\n",
       "      <td>пенсионер</td>\n",
       "      <td>0</td>\n",
       "      <td>NaN</td>\n",
       "      <td>сыграть свадьбу</td>\n",
       "    </tr>\n",
       "    <tr>\n",
       "      <th>13</th>\n",
       "      <td>0</td>\n",
       "      <td>-1846.641941</td>\n",
       "      <td>54</td>\n",
       "      <td>неоконченное высшее</td>\n",
       "      <td>2</td>\n",
       "      <td>женат / замужем</td>\n",
       "      <td>0</td>\n",
       "      <td>F</td>\n",
       "      <td>сотрудник</td>\n",
       "      <td>0</td>\n",
       "      <td>130458.228857</td>\n",
       "      <td>приобретение автомобиля</td>\n",
       "    </tr>\n",
       "    <tr>\n",
       "      <th>14</th>\n",
       "      <td>0</td>\n",
       "      <td>-1844.956182</td>\n",
       "      <td>56</td>\n",
       "      <td>высшее</td>\n",
       "      <td>0</td>\n",
       "      <td>гражданский брак</td>\n",
       "      <td>1</td>\n",
       "      <td>F</td>\n",
       "      <td>компаньон</td>\n",
       "      <td>1</td>\n",
       "      <td>165127.911772</td>\n",
       "      <td>покупка жилой недвижимости</td>\n",
       "    </tr>\n",
       "    <tr>\n",
       "      <th>15</th>\n",
       "      <td>1</td>\n",
       "      <td>-972.364419</td>\n",
       "      <td>26</td>\n",
       "      <td>среднее</td>\n",
       "      <td>1</td>\n",
       "      <td>женат / замужем</td>\n",
       "      <td>0</td>\n",
       "      <td>F</td>\n",
       "      <td>сотрудник</td>\n",
       "      <td>0</td>\n",
       "      <td>116820.904450</td>\n",
       "      <td>строительство собственной недвижимости</td>\n",
       "    </tr>\n",
       "    <tr>\n",
       "      <th>16</th>\n",
       "      <td>0</td>\n",
       "      <td>-1719.934226</td>\n",
       "      <td>35</td>\n",
       "      <td>среднее</td>\n",
       "      <td>1</td>\n",
       "      <td>женат / замужем</td>\n",
       "      <td>0</td>\n",
       "      <td>F</td>\n",
       "      <td>сотрудник</td>\n",
       "      <td>0</td>\n",
       "      <td>289202.704229</td>\n",
       "      <td>недвижимость</td>\n",
       "    </tr>\n",
       "    <tr>\n",
       "      <th>17</th>\n",
       "      <td>0</td>\n",
       "      <td>-2369.999720</td>\n",
       "      <td>33</td>\n",
       "      <td>высшее</td>\n",
       "      <td>0</td>\n",
       "      <td>гражданский брак</td>\n",
       "      <td>1</td>\n",
       "      <td>M</td>\n",
       "      <td>сотрудник</td>\n",
       "      <td>0</td>\n",
       "      <td>90410.586745</td>\n",
       "      <td>строительство недвижимости</td>\n",
       "    </tr>\n",
       "    <tr>\n",
       "      <th>18</th>\n",
       "      <td>0</td>\n",
       "      <td>400281.136913</td>\n",
       "      <td>53</td>\n",
       "      <td>среднее</td>\n",
       "      <td>1</td>\n",
       "      <td>вдовец / вдова</td>\n",
       "      <td>2</td>\n",
       "      <td>F</td>\n",
       "      <td>пенсионер</td>\n",
       "      <td>0</td>\n",
       "      <td>56823.777243</td>\n",
       "      <td>на покупку подержанного автомобиля</td>\n",
       "    </tr>\n",
       "    <tr>\n",
       "      <th>19</th>\n",
       "      <td>0</td>\n",
       "      <td>-10038.818549</td>\n",
       "      <td>48</td>\n",
       "      <td>СРЕДНЕЕ</td>\n",
       "      <td>1</td>\n",
       "      <td>в разводе</td>\n",
       "      <td>3</td>\n",
       "      <td>F</td>\n",
       "      <td>сотрудник</td>\n",
       "      <td>0</td>\n",
       "      <td>242831.107982</td>\n",
       "      <td>на покупку своего автомобиля</td>\n",
       "    </tr>\n",
       "  </tbody>\n",
       "</table>\n",
       "</div>"
      ],
      "text/plain": [
       "    children  days_employed  dob_years            education  education_id  \\\n",
       "0          1   -8437.673028         42               высшее             0   \n",
       "1          1   -4024.803754         36              среднее             1   \n",
       "2          0   -5623.422610         33              Среднее             1   \n",
       "3          3   -4124.747207         32              среднее             1   \n",
       "4          0  340266.072047         53              среднее             1   \n",
       "5          0    -926.185831         27               высшее             0   \n",
       "6          0   -2879.202052         43               высшее             0   \n",
       "7          0    -152.779569         50              СРЕДНЕЕ             1   \n",
       "8          2   -6929.865299         35               ВЫСШЕЕ             0   \n",
       "9          0   -2188.756445         41              среднее             1   \n",
       "10         2   -4171.483647         36               высшее             0   \n",
       "11         0    -792.701887         40              среднее             1   \n",
       "12         0            NaN         65              среднее             1   \n",
       "13         0   -1846.641941         54  неоконченное высшее             2   \n",
       "14         0   -1844.956182         56               высшее             0   \n",
       "15         1    -972.364419         26              среднее             1   \n",
       "16         0   -1719.934226         35              среднее             1   \n",
       "17         0   -2369.999720         33               высшее             0   \n",
       "18         0  400281.136913         53              среднее             1   \n",
       "19         0  -10038.818549         48              СРЕДНЕЕ             1   \n",
       "\n",
       "       family_status  family_status_id gender income_type  debt  \\\n",
       "0    женат / замужем                 0      F   сотрудник     0   \n",
       "1    женат / замужем                 0      F   сотрудник     0   \n",
       "2    женат / замужем                 0      M   сотрудник     0   \n",
       "3    женат / замужем                 0      M   сотрудник     0   \n",
       "4   гражданский брак                 1      F   пенсионер     0   \n",
       "5   гражданский брак                 1      M   компаньон     0   \n",
       "6    женат / замужем                 0      F   компаньон     0   \n",
       "7    женат / замужем                 0      M   сотрудник     0   \n",
       "8   гражданский брак                 1      F   сотрудник     0   \n",
       "9    женат / замужем                 0      M   сотрудник     0   \n",
       "10   женат / замужем                 0      M   компаньон     0   \n",
       "11   женат / замужем                 0      F   сотрудник     0   \n",
       "12  гражданский брак                 1      M   пенсионер     0   \n",
       "13   женат / замужем                 0      F   сотрудник     0   \n",
       "14  гражданский брак                 1      F   компаньон     1   \n",
       "15   женат / замужем                 0      F   сотрудник     0   \n",
       "16   женат / замужем                 0      F   сотрудник     0   \n",
       "17  гражданский брак                 1      M   сотрудник     0   \n",
       "18    вдовец / вдова                 2      F   пенсионер     0   \n",
       "19         в разводе                 3      F   сотрудник     0   \n",
       "\n",
       "     total_income                                 purpose  \n",
       "0   253875.639453                           покупка жилья  \n",
       "1   112080.014102                 приобретение автомобиля  \n",
       "2   145885.952297                           покупка жилья  \n",
       "3   267628.550329              дополнительное образование  \n",
       "4   158616.077870                         сыграть свадьбу  \n",
       "5   255763.565419                           покупка жилья  \n",
       "6   240525.971920                       операции с жильем  \n",
       "7   135823.934197                             образование  \n",
       "8    95856.832424                   на проведение свадьбы  \n",
       "9   144425.938277                 покупка жилья для семьи  \n",
       "10  113943.491460                    покупка недвижимости  \n",
       "11   77069.234271       покупка коммерческой недвижимости  \n",
       "12            NaN                         сыграть свадьбу  \n",
       "13  130458.228857                 приобретение автомобиля  \n",
       "14  165127.911772              покупка жилой недвижимости  \n",
       "15  116820.904450  строительство собственной недвижимости  \n",
       "16  289202.704229                            недвижимость  \n",
       "17   90410.586745              строительство недвижимости  \n",
       "18   56823.777243      на покупку подержанного автомобиля  \n",
       "19  242831.107982            на покупку своего автомобиля  "
      ]
     },
     "execution_count": 25,
     "metadata": {},
     "output_type": "execute_result"
    }
   ],
   "source": [
    "data.head(20)"
   ]
  },
  {
   "cell_type": "markdown",
   "id": "1c12e233",
   "metadata": {
    "deletable": false,
    "id": "1c12e233"
   },
   "source": [
    "**Задание 3. Выведите основную информацию о датафрейме с помощью метода `info()`.**"
   ]
  },
  {
   "cell_type": "code",
   "execution_count": 26,
   "id": "2b757bca",
   "metadata": {
    "deletable": false,
    "id": "2b757bca",
    "outputId": "15376089-8dad-46c9-b520-c05248d43158",
    "scrolled": true
   },
   "outputs": [
    {
     "name": "stdout",
     "output_type": "stream",
     "text": [
      "<class 'pandas.core.frame.DataFrame'>\n",
      "RangeIndex: 21525 entries, 0 to 21524\n",
      "Data columns (total 12 columns):\n",
      " #   Column            Non-Null Count  Dtype  \n",
      "---  ------            --------------  -----  \n",
      " 0   children          21525 non-null  int64  \n",
      " 1   days_employed     19351 non-null  float64\n",
      " 2   dob_years         21525 non-null  int64  \n",
      " 3   education         21525 non-null  object \n",
      " 4   education_id      21525 non-null  int64  \n",
      " 5   family_status     21525 non-null  object \n",
      " 6   family_status_id  21525 non-null  int64  \n",
      " 7   gender            21525 non-null  object \n",
      " 8   income_type       21525 non-null  object \n",
      " 9   debt              21525 non-null  int64  \n",
      " 10  total_income      19351 non-null  float64\n",
      " 11  purpose           21525 non-null  object \n",
      "dtypes: float64(2), int64(5), object(5)\n",
      "memory usage: 2.0+ MB\n"
     ]
    }
   ],
   "source": [
    "data.info()"
   ]
  },
  {
   "cell_type": "markdown",
   "id": "333ec665",
   "metadata": {
    "deletable": false,
    "id": "333ec665"
   },
   "source": [
    "## Предобработка данных"
   ]
  },
  {
   "cell_type": "markdown",
   "id": "02d92d53",
   "metadata": {
    "deletable": false,
    "id": "02d92d53"
   },
   "source": [
    "### Удаление пропусков"
   ]
  },
  {
   "cell_type": "markdown",
   "id": "cd84967c",
   "metadata": {
    "deletable": false,
    "id": "cd84967c"
   },
   "source": [
    "**Задание 4. Выведите количество пропущенных значений для каждого столбца. Используйте комбинацию двух методов.**"
   ]
  },
  {
   "cell_type": "code",
   "execution_count": 27,
   "id": "7f9b2309",
   "metadata": {
    "deletable": false,
    "id": "7f9b2309",
    "outputId": "81f4d817-781c-465c-ed15-91ce4446810d",
    "scrolled": false
   },
   "outputs": [
    {
     "data": {
      "text/plain": [
       "children               0\n",
       "days_employed       2174\n",
       "dob_years              0\n",
       "education              0\n",
       "education_id           0\n",
       "family_status          0\n",
       "family_status_id       0\n",
       "gender                 0\n",
       "income_type            0\n",
       "debt                   0\n",
       "total_income        2174\n",
       "purpose                0\n",
       "dtype: int64"
      ]
     },
     "execution_count": 27,
     "metadata": {},
     "output_type": "execute_result"
    }
   ],
   "source": [
    "data.isna().sum()"
   ]
  },
  {
   "cell_type": "markdown",
   "id": "db86e27b",
   "metadata": {
    "deletable": false,
    "id": "db86e27b"
   },
   "source": [
    "**Задание 5. В двух столбцах есть пропущенные значения. Один из них — `days_employed`. Пропуски в этом столбце вы обработаете на следующем этапе. Другой столбец с пропущенными значениями — `total_income` — хранит данные о доходах. На сумму дохода сильнее всего влияет тип занятости, поэтому заполнить пропуски в этом столбце нужно медианным значением по каждому типу из столбца `income_type`. Например, у человека с типом занятости `сотрудник` пропуск в столбце `total_income` должен быть заполнен медианным доходом среди всех записей с тем же типом.**"
   ]
  },
  {
   "cell_type": "code",
   "execution_count": 28,
   "id": "42006a93",
   "metadata": {
    "deletable": false,
    "id": "42006a93"
   },
   "outputs": [],
   "source": [
    "for t in data['income_type'].unique():\n",
    "    data.loc[(data['income_type'] == t) & (data['total_income'].isna()), 'total_income'] = \\\n",
    "    data.loc[(data['income_type'] == t), 'total_income'].median()"
   ]
  },
  {
   "cell_type": "markdown",
   "id": "89da5ece",
   "metadata": {
    "deletable": false,
    "id": "89da5ece"
   },
   "source": [
    "### Обработка аномальных значений"
   ]
  },
  {
   "cell_type": "markdown",
   "id": "57964554",
   "metadata": {
    "deletable": false,
    "id": "57964554"
   },
   "source": [
    "**Задание 6. В данных могут встречаться артефакты (аномалии) — значения, которые не отражают действительность и появились по какой-то ошибке. таким артефактом будет отрицательное количество дней трудового стажа в столбце `days_employed`. Для реальных данных это нормально. Обработайте значения в этом столбце: замените все отрицательные значения положительными с помощью метода `abs()`.**"
   ]
  },
  {
   "cell_type": "code",
   "execution_count": 29,
   "id": "f6f055bf",
   "metadata": {
    "deletable": false,
    "id": "f6f055bf"
   },
   "outputs": [],
   "source": [
    "data['days_employed'] = data['days_employed'].abs()"
   ]
  },
  {
   "cell_type": "markdown",
   "id": "6107dd2f",
   "metadata": {
    "deletable": false,
    "id": "6107dd2f"
   },
   "source": [
    "**Задание 7. Для каждого типа занятости выведите медианное значение трудового стажа `days_employed` в днях.**"
   ]
  },
  {
   "cell_type": "code",
   "execution_count": 30,
   "id": "85a5faf6",
   "metadata": {
    "deletable": false,
    "id": "85a5faf6",
    "outputId": "801ef80e-522b-4668-f34e-565af7432bcf",
    "scrolled": true
   },
   "outputs": [
    {
     "data": {
      "text/plain": [
       "income_type\n",
       "безработный        366413.652744\n",
       "в декрете            3296.759962\n",
       "госслужащий          2689.368353\n",
       "компаньон            1547.382223\n",
       "пенсионер          365213.306266\n",
       "предприниматель       520.848083\n",
       "сотрудник            1574.202821\n",
       "студент               578.751554\n",
       "Name: days_employed, dtype: float64"
      ]
     },
     "execution_count": 30,
     "metadata": {},
     "output_type": "execute_result"
    }
   ],
   "source": [
    "data.groupby('income_type')['days_employed'].agg('median')"
   ]
  },
  {
   "cell_type": "markdown",
   "id": "38d1a030",
   "metadata": {
    "deletable": false,
    "id": "38d1a030"
   },
   "source": [
    "У двух типов (безработные и пенсионеры) получатся аномально большие значения. Исправить такие значения сложно, поэтому оставьте их как есть. Тем более этот столбец не понадобится вам для исследования."
   ]
  },
  {
   "cell_type": "markdown",
   "id": "d8a9f147",
   "metadata": {
    "deletable": false,
    "id": "d8a9f147"
   },
   "source": [
    "**Задание 8. Выведите перечень уникальных значений столбца `children`.**"
   ]
  },
  {
   "cell_type": "code",
   "execution_count": 31,
   "id": "ef5056eb",
   "metadata": {
    "deletable": false,
    "id": "ef5056eb",
    "outputId": "6975b15c-7f95-4697-d16d-a0c79b657b03"
   },
   "outputs": [
    {
     "data": {
      "text/plain": [
       "array([ 1,  0,  3,  2, -1,  4, 20,  5])"
      ]
     },
     "execution_count": 31,
     "metadata": {},
     "output_type": "execute_result"
    }
   ],
   "source": [
    "data['children'].unique()"
   ]
  },
  {
   "cell_type": "markdown",
   "id": "40b9ebf2",
   "metadata": {
    "deletable": false,
    "id": "40b9ebf2"
   },
   "source": [
    "**Задание 9. В столбце `children` есть два аномальных значения. Удалите строки, в которых встречаются такие аномальные значения из датафрейма `data`.**"
   ]
  },
  {
   "cell_type": "code",
   "execution_count": 32,
   "id": "3ff9801d",
   "metadata": {
    "deletable": false,
    "id": "3ff9801d"
   },
   "outputs": [],
   "source": [
    "data = data[(data['children'] != -1) & (data['children'] != 20)]"
   ]
  },
  {
   "cell_type": "markdown",
   "id": "bbc4d0ce",
   "metadata": {
    "deletable": false,
    "id": "bbc4d0ce"
   },
   "source": [
    "**Задание 10. Ещё раз выведите перечень уникальных значений столбца `children`, чтобы убедиться, что артефакты удалены.**"
   ]
  },
  {
   "cell_type": "code",
   "execution_count": 33,
   "id": "ad4fa8b7",
   "metadata": {
    "deletable": false,
    "id": "ad4fa8b7",
    "outputId": "b2097101-d49d-44d9-901b-32a65c9463d1",
    "scrolled": true
   },
   "outputs": [
    {
     "data": {
      "text/plain": [
       "array([1, 0, 3, 2, 4, 5])"
      ]
     },
     "execution_count": 33,
     "metadata": {},
     "output_type": "execute_result"
    }
   ],
   "source": [
    "data['children'].unique()"
   ]
  },
  {
   "cell_type": "markdown",
   "id": "75440b63",
   "metadata": {
    "deletable": false,
    "id": "75440b63"
   },
   "source": [
    "### Удаление пропусков (продолжение)"
   ]
  },
  {
   "cell_type": "markdown",
   "id": "f4ea573f",
   "metadata": {
    "deletable": false,
    "id": "f4ea573f"
   },
   "source": [
    "**Задание 11. Заполните пропуски в столбце `days_employed` медианными значениями по каждого типа занятости `income_type`.**"
   ]
  },
  {
   "cell_type": "code",
   "execution_count": 34,
   "id": "af6b1a7e",
   "metadata": {
    "deletable": false,
    "id": "af6b1a7e"
   },
   "outputs": [],
   "source": [
    "for t in data['income_type'].unique():\n",
    "    data.loc[(data['income_type'] == t) & (data['days_employed'].isna()), 'days_employed'] = \\\n",
    "    data.loc[(data['income_type'] == t), 'days_employed'].median()"
   ]
  },
  {
   "cell_type": "markdown",
   "id": "2753f40d",
   "metadata": {
    "deletable": false,
    "id": "2753f40d"
   },
   "source": [
    "**Задание 12. Убедитесь, что все пропуски заполнены. Проверьте себя и ещё раз выведите количество пропущенных значений для каждого столбца с помощью двух методов.**"
   ]
  },
  {
   "cell_type": "code",
   "execution_count": 35,
   "id": "55f78bc2",
   "metadata": {
    "deletable": false,
    "id": "55f78bc2",
    "outputId": "8da1e4e1-358e-4e87-98c9-f261bce0a7b2",
    "scrolled": true
   },
   "outputs": [
    {
     "data": {
      "text/plain": [
       "children            0\n",
       "days_employed       0\n",
       "dob_years           0\n",
       "education           0\n",
       "education_id        0\n",
       "family_status       0\n",
       "family_status_id    0\n",
       "gender              0\n",
       "income_type         0\n",
       "debt                0\n",
       "total_income        0\n",
       "purpose             0\n",
       "dtype: int64"
      ]
     },
     "execution_count": 35,
     "metadata": {},
     "output_type": "execute_result"
    }
   ],
   "source": [
    "data.isna().sum()"
   ]
  },
  {
   "cell_type": "markdown",
   "id": "ddc81e43",
   "metadata": {
    "deletable": false,
    "id": "ddc81e43"
   },
   "source": [
    "### Изменение типов данных"
   ]
  },
  {
   "cell_type": "markdown",
   "id": "42d19d24",
   "metadata": {
    "deletable": false,
    "id": "42d19d24"
   },
   "source": [
    "**Задание 13. Замените вещественный тип данных в столбце `total_income` на целочисленный с помощью метода `astype()`.**"
   ]
  },
  {
   "cell_type": "code",
   "execution_count": 36,
   "id": "920b65ad",
   "metadata": {
    "deletable": false,
    "id": "920b65ad"
   },
   "outputs": [],
   "source": [
    "data['total_income'] = data['total_income'].astype(int)"
   ]
  },
  {
   "cell_type": "markdown",
   "id": "80c420ba",
   "metadata": {
    "deletable": false,
    "id": "80c420ba"
   },
   "source": [
    "### Обработка дубликатов"
   ]
  },
  {
   "cell_type": "markdown",
   "id": "dc587695",
   "metadata": {
    "deletable": false,
    "id": "dc587695"
   },
   "source": [
    "**Задание 14. Выведите на экран количество строк-дубликатов в данных. Если такие строки присутствуют, удалите их.**"
   ]
  },
  {
   "cell_type": "code",
   "execution_count": 37,
   "id": "3ee445e4",
   "metadata": {
    "deletable": false,
    "id": "3ee445e4",
    "outputId": "9684deba-1934-42d1-99e1-cda61740f822"
   },
   "outputs": [
    {
     "data": {
      "text/plain": [
       "54"
      ]
     },
     "execution_count": 37,
     "metadata": {},
     "output_type": "execute_result"
    }
   ],
   "source": [
    "data.duplicated().sum()"
   ]
  },
  {
   "cell_type": "code",
   "execution_count": 38,
   "id": "8575fe05",
   "metadata": {
    "deletable": false,
    "id": "8575fe05"
   },
   "outputs": [],
   "source": [
    "data = data.drop_duplicates()"
   ]
  },
  {
   "cell_type": "markdown",
   "id": "9771a76c",
   "metadata": {
    "deletable": false,
    "id": "9771a76c"
   },
   "source": [
    "**Задание 15. Обработайте неявные дубликаты в столбце `education`. В этом столбце есть одни и те же значения, но записанные по-разному: с использованием заглавных и строчных букв. Приведите их к нижнему регистру. Проверьте остальные столбцы.**"
   ]
  },
  {
   "cell_type": "code",
   "execution_count": 39,
   "id": "a9f8e2bf",
   "metadata": {
    "deletable": false,
    "id": "a9f8e2bf"
   },
   "outputs": [],
   "source": [
    "data['education'] = data['education'].str.lower()"
   ]
  },
  {
   "cell_type": "markdown",
   "id": "9904cf55",
   "metadata": {
    "deletable": false,
    "id": "9904cf55"
   },
   "source": [
    "### Категоризация данных"
   ]
  },
  {
   "cell_type": "markdown",
   "id": "72fcc8a2",
   "metadata": {
    "deletable": false,
    "id": "72fcc8a2"
   },
   "source": [
    "**Задание 16. На основании диапазонов, указанных ниже, создайте в датафрейме `data` столбец `total_income_category` с категориями:**\n",
    "\n",
    "- 0–30000 — `'E'`;\n",
    "- 30001–50000 — `'D'`;\n",
    "- 50001–200000 — `'C'`;\n",
    "- 200001–1000000 — `'B'`;\n",
    "- 1000001 и выше — `'A'`.\n",
    "\n",
    "\n",
    "**Например, кредитополучателю с доходом 25000 нужно назначить категорию `'E'`, а клиенту, получающему 235000, — `'B'`. Используйте собственную функцию с именем `categorize_income()` и метод `apply()`.**"
   ]
  },
  {
   "cell_type": "code",
   "execution_count": 40,
   "id": "e1771346",
   "metadata": {
    "deletable": false,
    "id": "e1771346"
   },
   "outputs": [],
   "source": [
    "def categorize_income(income):\n",
    "    try:\n",
    "        if 0 <= income <= 30000:\n",
    "            return 'E'\n",
    "        elif 30001 <= income <= 50000:\n",
    "            return 'D'\n",
    "        elif 50001 <= income <= 200000:\n",
    "            return 'C'\n",
    "        elif 200001 <= income <= 1000000:\n",
    "            return 'B'\n",
    "        elif income >= 1000001:\n",
    "            return 'A'\n",
    "    except:\n",
    "        pass"
   ]
  },
  {
   "cell_type": "code",
   "execution_count": 41,
   "id": "d5f3586d",
   "metadata": {
    "deletable": false,
    "id": "d5f3586d"
   },
   "outputs": [],
   "source": [
    "data['total_income_category'] = data['total_income'].apply(categorize_income)"
   ]
  },
  {
   "cell_type": "markdown",
   "id": "dde49b5c",
   "metadata": {
    "deletable": false,
    "id": "dde49b5c"
   },
   "source": [
    "**Задание 17. Выведите на экран перечень уникальных целей взятия кредита из столбца `purpose`.**"
   ]
  },
  {
   "cell_type": "code",
   "execution_count": 42,
   "id": "f67ce9b3",
   "metadata": {
    "deletable": false,
    "id": "f67ce9b3",
    "outputId": "673c12d9-7d7e-4ae0-9812-c622c89dd244"
   },
   "outputs": [
    {
     "data": {
      "text/plain": [
       "array(['покупка жилья', 'приобретение автомобиля',\n",
       "       'дополнительное образование', 'сыграть свадьбу',\n",
       "       'операции с жильем', 'образование', 'на проведение свадьбы',\n",
       "       'покупка жилья для семьи', 'покупка недвижимости',\n",
       "       'покупка коммерческой недвижимости', 'покупка жилой недвижимости',\n",
       "       'строительство собственной недвижимости', 'недвижимость',\n",
       "       'строительство недвижимости', 'на покупку подержанного автомобиля',\n",
       "       'на покупку своего автомобиля',\n",
       "       'операции с коммерческой недвижимостью',\n",
       "       'строительство жилой недвижимости', 'жилье',\n",
       "       'операции со своей недвижимостью', 'автомобили',\n",
       "       'заняться образованием', 'сделка с подержанным автомобилем',\n",
       "       'получение образования', 'автомобиль', 'свадьба',\n",
       "       'получение дополнительного образования', 'покупка своего жилья',\n",
       "       'операции с недвижимостью', 'получение высшего образования',\n",
       "       'свой автомобиль', 'сделка с автомобилем',\n",
       "       'профильное образование', 'высшее образование',\n",
       "       'покупка жилья для сдачи', 'на покупку автомобиля', 'ремонт жилью',\n",
       "       'заняться высшим образованием'], dtype=object)"
      ]
     },
     "execution_count": 42,
     "metadata": {},
     "output_type": "execute_result"
    }
   ],
   "source": [
    "data['purpose'].unique()"
   ]
  },
  {
   "cell_type": "markdown",
   "id": "85d0aef0",
   "metadata": {
    "deletable": false,
    "id": "85d0aef0"
   },
   "source": [
    "**Задание 18. Создайте функцию, которая на основании данных из столбца `purpose` сформирует новый столбец `purpose_category`, в который войдут следующие категории:**\n",
    "\n",
    "- `'операции с автомобилем'`,\n",
    "- `'операции с недвижимостью'`,\n",
    "- `'проведение свадьбы'`,\n",
    "- `'получение образования'`.\n",
    "\n",
    "**Например, если в столбце `purpose` находится подстрока `'на покупку автомобиля'`, то в столбце `purpose_category` должна появиться строка `'операции с автомобилем'`.**\n",
    "\n",
    "**Используйте собственную функцию с именем `categorize_purpose()` и метод `apply()`. Изучите данные в столбце `purpose` и определите, какие подстроки помогут вам правильно определить категорию.**"
   ]
  },
  {
   "cell_type": "code",
   "execution_count": 43,
   "id": "e149fab4",
   "metadata": {
    "deletable": false,
    "id": "e149fab4"
   },
   "outputs": [],
   "source": [
    "def categorize_purpose(row):\n",
    "    try:\n",
    "        if 'автом' in row:\n",
    "            return 'операции с автомобилем'\n",
    "        elif 'жил' in row or 'недвиж' in row:\n",
    "            return 'операции с недвижимостью'\n",
    "        elif 'свад' in row:\n",
    "            return 'проведение свадьбы'\n",
    "        elif 'образов' in row:\n",
    "            return 'получение образования'\n",
    "    except:\n",
    "        return 'нет категории'"
   ]
  },
  {
   "cell_type": "code",
   "execution_count": 44,
   "id": "bf36e69b",
   "metadata": {
    "deletable": false,
    "id": "bf36e69b"
   },
   "outputs": [],
   "source": [
    "data['purpose_category'] = data['purpose'].apply(categorize_purpose)"
   ]
  },
  {
   "cell_type": "markdown",
   "id": "09b242bf",
   "metadata": {
    "deletable": false,
    "editable": false,
    "id": "09b242bf"
   },
   "source": [
    "## Исследуйте данные и ответьте на вопросы"
   ]
  },
  {
   "cell_type": "markdown",
   "id": "c5d66278",
   "metadata": {
    "deletable": false,
    "editable": false,
    "id": "c5d66278"
   },
   "source": [
    "**Задание 19. Есть ли зависимость между количеством детей и возвратом кредита в срок?**"
   ]
  },
  {
   "cell_type": "markdown",
   "id": "019ecb2f",
   "metadata": {},
   "source": [
    "Чтобы посчитать есть ли зависимость между количеством детей и возвратом кредита в срок, решил вычислить конверсию для каждой группы заемщиков в зависимости от количества у них детей, т.е.процент заемщиков имевших ранее задолженность по отношению к общему количеству заемщиков в своей группе. Потом сравню полученные показатели."
   ]
  },
  {
   "cell_type": "code",
   "execution_count": 45,
   "id": "22d055ad",
   "metadata": {},
   "outputs": [
    {
     "data": {
      "text/plain": [
       "children\n",
       "0    14107\n",
       "1     4809\n",
       "2     2052\n",
       "3      330\n",
       "4       41\n",
       "5        9\n",
       "Name: children, dtype: int64"
      ]
     },
     "execution_count": 45,
     "metadata": {},
     "output_type": "execute_result"
    }
   ],
   "source": [
    "data.groupby('children')['children'].count() # сначала смотрю общую информацию количества кредитов для каждой группы заемщиков"
   ]
  },
  {
   "cell_type": "markdown",
   "id": "ff235d46",
   "metadata": {},
   "source": [
    "Делаю тестовый расчет конверсии для группы заемщиков без детей. Изначально нам известно,что в столбце `debt` всего 2 катеогории людей, у которых не было пропусков `0` и у которых были пропущены платежи `1`"
   ]
  },
  {
   "cell_type": "code",
   "execution_count": 46,
   "id": "c702eb55",
   "metadata": {},
   "outputs": [
    {
     "data": {
      "text/plain": [
       "7.535266179910682"
      ]
     },
     "execution_count": 46,
     "metadata": {},
     "output_type": "execute_result"
    }
   ],
   "source": [
    "without_child_debt_all = data[data['children'] == 0]['debt'].count()\n",
    "without_child_debt_1 = data[(data['children'] == 0) & \n",
    "                            (data['debt'] == 1)]['children'].count()\n",
    "without_child_convers = without_child_debt_1 / without_child_debt_all * 100\n",
    "without_child_convers"
   ]
  },
  {
   "cell_type": "code",
   "execution_count": 47,
   "id": "c24f2891",
   "metadata": {},
   "outputs": [],
   "source": [
    "def converse_debt_children(children): # cоздаю функцию для вычисления конверсии\n",
    "    debt_0 = data[data['children'] == children]['debt'].count()\n",
    "    debt_1 = data[(data['children'] == children) & (data['debt'] == 1)]['children'].count()\n",
    "    converse = debt_1 / debt_0 * 100\n",
    "    return converse"
   ]
  },
  {
   "cell_type": "markdown",
   "id": "207c40fe",
   "metadata": {},
   "source": [
    "Создаю цикл,который вычислит конверсию для каждой группы, помещаю результаты в переменную `converse_childrens`, а количество детей в `count_childrens`:"
   ]
  },
  {
   "cell_type": "code",
   "execution_count": 48,
   "id": "a5004c52",
   "metadata": {},
   "outputs": [],
   "source": [
    "count_childrens = []\n",
    "converse_childrens = []\n",
    "for child in data.sort_values('children', ascending=True)['children'].unique():\n",
    "    if child not in count_childrens:\n",
    "        count_childrens.append(child)\n",
    "        converse_childrens.append(converse_debt_children(child))"
   ]
  },
  {
   "cell_type": "code",
   "execution_count": 49,
   "id": "f058e491",
   "metadata": {},
   "outputs": [],
   "source": [
    "import seaborn #импортирую библиотеку seaborn"
   ]
  },
  {
   "cell_type": "code",
   "execution_count": 51,
   "id": "34275dd8",
   "metadata": {
    "scrolled": true
   },
   "outputs": [
    {
     "data": {
      "image/png": "[encoded data removed]",
      "text/plain": [
       "<Figure size 432x288 with 1 Axes>"
      ]
     },
     "metadata": {
      "needs_background": "light"
     },
     "output_type": "display_data"
    }
   ],
   "source": [
    "seaborn.barplot(x=count_childrens, y=converse_childrens); #создаю столбчатую диаграмму,чтобы посомтреть зависимость"
   ]
  },
  {
   "cell_type": "markdown",
   "id": "3a6b99ec",
   "metadata": {
    "deletable": false,
    "id": "3a6b99ec"
   },
   "source": [
    "**Вывод:** Исходя из полученных данных можно сделать вывод,что зависимость между количеством детей и возвратом кредита в срок, пусть и незначительная действительно наблюдается. ЗОсобенно это хорошо видно на первых трех столбцах, где виден рост количества людей с проблемами платежей по кредиту. Для заемщиков с детьми большая вероятность того,что они не смогут вернуть кредит в срок. В группах с количеством детей 3 и 4, таких людей тоже больше, чем в группе где нет детей. Но если судить по общей информации, в этих группах не очень много заемщиков, и конверсия непоказательна, я считаю. В группе с 5 детьми не было просрочек вообще, но в этой группе всего 9 человек, и делать какие то выводы по ней нет смысла. "
   ]
  },
  {
   "cell_type": "markdown",
   "id": "97be82ca",
   "metadata": {
    "deletable": false,
    "editable": false,
    "id": "97be82ca"
   },
   "source": [
    "**Задание 20. Есть ли зависимость между семейным положением и возвратом кредита в срок?**"
   ]
  },
  {
   "cell_type": "markdown",
   "id": "5572b298",
   "metadata": {},
   "source": [
    "Чтобы ответить на этот вопрос посчитаю конверсию для каждой категории семейного положения: соотношение тех,у кого были проблемы с платежами, к общему количеству заемщиков своей группе."
   ]
  },
  {
   "cell_type": "code",
   "execution_count": 52,
   "id": "dc3f7ee8",
   "metadata": {
    "id": "dc3f7ee8"
   },
   "outputs": [
    {
     "data": {
      "text/plain": [
       "array(['женат / замужем', 'гражданский брак', 'вдовец / вдова',\n",
       "       'в разводе', 'Не женат / не замужем'], dtype=object)"
      ]
     },
     "execution_count": 52,
     "metadata": {},
     "output_type": "execute_result"
    }
   ],
   "source": [
    "data['family_status'].unique() #смотрю какие категории вообще есть в наших данных"
   ]
  },
  {
   "cell_type": "code",
   "execution_count": 53,
   "id": "6deca598",
   "metadata": {},
   "outputs": [
    {
     "data": {
      "text/plain": [
       "array([0, 1, 2, 3, 4])"
      ]
     },
     "execution_count": 53,
     "metadata": {},
     "output_type": "execute_result"
    }
   ],
   "source": [
    "data['family_status_id'].unique() # также каждой категории семейного положения присвоен свой `ID`.Смотрю какие есть и сравниваю\n",
    "                                  # с количеством категорий"
   ]
  },
  {
   "cell_type": "markdown",
   "id": "bb0d3144",
   "metadata": {},
   "source": [
    "Группирую столбцы `family_status` и `family_status_id` по количеству заемщиков в каждой категории:"
   ]
  },
  {
   "cell_type": "code",
   "execution_count": 54,
   "id": "52cfabae",
   "metadata": {},
   "outputs": [
    {
     "data": {
      "text/plain": [
       "family_status\n",
       "вдовец / вдова             951\n",
       "в разводе                 1189\n",
       "Не женат / не замужем     2796\n",
       "гражданский брак          4146\n",
       "женат / замужем          12266\n",
       "Name: family_status, dtype: int64"
      ]
     },
     "execution_count": 54,
     "metadata": {},
     "output_type": "execute_result"
    }
   ],
   "source": [
    "data.groupby('family_status')['family_status'].count().sort_values()"
   ]
  },
  {
   "cell_type": "code",
   "execution_count": 55,
   "id": "06579505",
   "metadata": {},
   "outputs": [
    {
     "data": {
      "text/plain": [
       "family_status_id\n",
       "2      951\n",
       "3     1189\n",
       "4     2796\n",
       "1     4146\n",
       "0    12266\n",
       "Name: family_status, dtype: int64"
      ]
     },
     "execution_count": 55,
     "metadata": {},
     "output_type": "execute_result"
    }
   ],
   "source": [
    "data.groupby('family_status_id')['family_status'].count().sort_values()"
   ]
  },
  {
   "cell_type": "markdown",
   "id": "d3d8912c",
   "metadata": {},
   "source": [
    "Я сразу отсортировал по количеству,чтобы проще было сравнить. Количество совпадает, а значит мы можем определить,какой `ID` у каждой категории семейного положения:\n",
    "`0` - женат / замужем;\n",
    "`1` - гражданский брак;\n",
    "`2` - вдовец / вдова;\n",
    "`3` - в разводе;\n",
    "`4` - Не женат / не замужем."
   ]
  },
  {
   "cell_type": "code",
   "execution_count": 56,
   "id": "0b5c751c",
   "metadata": {},
   "outputs": [],
   "source": [
    "def converse_debt_family_status(family_status): # функция для подсчета конверсии\n",
    "    debt_0 = data[data['family_status_id'] == family_status]['debt'].count()\n",
    "    debt_1 = data[(data['family_status_id'] == family_status) & (data['debt'] == 1)]['children'].count()\n",
    "    converse = debt_1 / debt_0 * 100\n",
    "    return converse"
   ]
  },
  {
   "cell_type": "markdown",
   "id": "306b71a4",
   "metadata": {},
   "source": [
    "Создаю цикл,который вычислит конверсию для каждой группы, помещаю результаты в переменную `converse_family_status` :"
   ]
  },
  {
   "cell_type": "code",
   "execution_count": 57,
   "id": "cd75c22f",
   "metadata": {},
   "outputs": [],
   "source": [
    "converse_family_status = []\n",
    "for status_id in data.sort_values('family_status_id', ascending=True)['family_status_id'].unique():\n",
    "    count_family_status_id = []\n",
    "    if status_id not in count_family_status_id:\n",
    "        count_family_status_id.append(status_id)\n",
    "        converse_family_status.append(converse_debt_family_status(status_id))"
   ]
  },
  {
   "cell_type": "code",
   "execution_count": 58,
   "id": "1919eb01",
   "metadata": {},
   "outputs": [],
   "source": [
    "family_status_text = ['женат / замужем', 'гражданский брак', 'вдовец / вдова', 'в разводе', 'не женат / не замужем']\n",
    "# т.к. нам известен порядок размещения ID для категорий семейного положения, создаю переменную со значениями для оси Y"
   ]
  },
  {
   "cell_type": "code",
   "execution_count": 60,
   "id": "eb2b92d9",
   "metadata": {},
   "outputs": [
    {
     "data": {
      "image/png": "[encoded data removed]",
      "text/plain": [
       "<Figure size 432x288 with 1 Axes>"
      ]
     },
     "metadata": {
      "needs_background": "light"
     },
     "output_type": "display_data"
    }
   ],
   "source": [
    "seaborn.barplot(x=converse_family_status, y=family_status_text); # отображаю результат"
   ]
  },
  {
   "cell_type": "markdown",
   "id": "1cef7837",
   "metadata": {
    "deletable": false,
    "id": "1cef7837"
   },
   "source": [
    "**Вывод:** На основании полученных данных можно сказать,что наблюдается некоторая зависимость. Сложности с возвратом кредита в срок могут с большей вероятностью могут возникнуть у заемщиков из категорий \"гражданский брак\" и \"не женат/не замужем\" по сравнению с остальными категориями заемщиков. Отдельно стоит отметить самую многочисленную катеогорию заемщиков \"женат/замужем\", вероятность не отдать кредит в срок составляет чуть больше ~7,5%, что в целом сравнимо с показателями наименее рисковых групп."
   ]
  },
  {
   "cell_type": "markdown",
   "id": "1e8b2fca",
   "metadata": {
    "deletable": false,
    "editable": false,
    "id": "1e8b2fca"
   },
   "source": [
    "**Задание 21. Есть ли зависимость между уровнем дохода и возвратом кредита в срок?**"
   ]
  },
  {
   "cell_type": "markdown",
   "id": "7f907d0d",
   "metadata": {},
   "source": [
    "С учетом того, что доход каждого из заемщиков был рапределен по категориям, высчитаем конверсию для каждой из них."
   ]
  },
  {
   "cell_type": "code",
   "execution_count": 61,
   "id": "6fe6543b",
   "metadata": {},
   "outputs": [
    {
     "data": {
      "text/plain": [
       "total_income_category\n",
       "A       25\n",
       "B     5014\n",
       "C    15938\n",
       "D      349\n",
       "E       22\n",
       "Name: total_income_category, dtype: int64"
      ]
     },
     "execution_count": 61,
     "metadata": {},
     "output_type": "execute_result"
    }
   ],
   "source": [
    "data.groupby('total_income_category')['total_income_category'].count() # смотрю количество заемщиков в каждой группе"
   ]
  },
  {
   "cell_type": "code",
   "execution_count": 62,
   "id": "cd7e3720",
   "metadata": {
    "id": "cd7e3720"
   },
   "outputs": [
    {
     "data": {
      "text/plain": [
       "array(['A', 'B', 'C', 'D', 'E'], dtype=object)"
      ]
     },
     "execution_count": 62,
     "metadata": {},
     "output_type": "execute_result"
    }
   ],
   "source": [
    "sort_category_total_income = data.sort_values('total_income_category', ascending=True)['total_income_category'].unique()\n",
    "sort_category_total_income\n",
    "# возможно это переменная лишшняя, но я перестраховался, чтобы не допутстить ошибки в сортировке групп выраженными\n",
    "# буквенными значениями"
   ]
  },
  {
   "cell_type": "code",
   "execution_count": 63,
   "id": "b1142779",
   "metadata": {},
   "outputs": [],
   "source": [
    "def converse_debt_total_income(category_income): # функция для вычисления конверсии\n",
    "    debt_0 = data[data['total_income_category'] == category_income]['debt'].count()\n",
    "    debt_1 = data[(data['total_income_category'] == category_income) & (data['debt'] == 1)]['total_income_category'].count()\n",
    "    converse = debt_1 / debt_0 * 100\n",
    "    return converse"
   ]
  },
  {
   "cell_type": "code",
   "execution_count": 64,
   "id": "5b9db1df",
   "metadata": {},
   "outputs": [],
   "source": [
    "list_total_income_category = [] # вычисляю конверсию для каждой категории\n",
    "converse_total_income_category = []\n",
    "for category in sort_category_total_income:\n",
    "    if category not in list_total_income_category:\n",
    "        list_total_income_category.append(category)\n",
    "        converse_total_income_category.append(converse_debt_total_income(category))"
   ]
  },
  {
   "cell_type": "code",
   "execution_count": 65,
   "id": "a584f4cf",
   "metadata": {},
   "outputs": [
    {
     "data": {
      "text/plain": [
       "<AxesSubplot:>"
      ]
     },
     "execution_count": 65,
     "metadata": {},
     "output_type": "execute_result"
    },
    {
     "data": {
      "image/png": "[encoded data removed]",
      "text/plain": [
       "<Figure size 432x288 with 1 Axes>"
      ]
     },
     "metadata": {
      "needs_background": "light"
     },
     "output_type": "display_data"
    }
   ],
   "source": [
    "seaborn.barplot(x=list_total_income_category, y=converse_total_income_category) #сравниваю полученные результаты"
   ]
  },
  {
   "cell_type": "markdown",
   "id": "e8593def",
   "metadata": {
    "deletable": false,
    "id": "e8593def"
   },
   "source": [
    "**Вывод:** С учетом полученной информации, самая многочисленная группа заемщиков в столбце `C`, которую можно охарактеризовать как людей со средним доходом показывает потенциально большую вероятность просрока кредита, чем соседние группы с большим и меньшим доходом. Столбцы `A` и `C` из-за малого количества людей в ней, учитывать не стоит. ПОэтому можно сказать,что зависимости между уровнем дохода и возвратом кредита в срок нет."
   ]
  },
  {
   "cell_type": "markdown",
   "id": "99ecbd1f",
   "metadata": {
    "deletable": false,
    "editable": false,
    "id": "99ecbd1f"
   },
   "source": [
    "**Задание 22. Как разные цели кредита влияют на его возврат в срок?**"
   ]
  },
  {
   "cell_type": "markdown",
   "id": "2c48c8ff",
   "metadata": {},
   "source": [
    "Для ответа на этот вопрос посчитаю конверсию для каждой категории целей кредита для заемщиков, у которых была просрочка платежа."
   ]
  },
  {
   "cell_type": "code",
   "execution_count": 66,
   "id": "2b687290",
   "metadata": {
    "id": "2b687290",
    "scrolled": false
   },
   "outputs": [
    {
     "data": {
      "text/plain": [
       "array(['операции с недвижимостью', 'операции с автомобилем',\n",
       "       'получение образования', 'проведение свадьбы'], dtype=object)"
      ]
     },
     "execution_count": 66,
     "metadata": {},
     "output_type": "execute_result"
    }
   ],
   "source": [
    "data['purpose_category'].unique() # вывожу категории целей кредита"
   ]
  },
  {
   "cell_type": "code",
   "execution_count": 67,
   "id": "ffbd2a8e",
   "metadata": {},
   "outputs": [],
   "source": [
    "def categorize_id_purpose(row): # создаю функцию для присвоения ID к категориям целей кредита\n",
    "    if row == 'операции с недвижимостью':\n",
    "        return '0'\n",
    "    elif row == 'операции с автомобилем':\n",
    "        return '1'\n",
    "    elif row == 'получение образования':\n",
    "        return '2'\n",
    "    elif row == 'проведение свадьбы':\n",
    "        return '3'"
   ]
  },
  {
   "cell_type": "code",
   "execution_count": 68,
   "id": "21b9f05f",
   "metadata": {},
   "outputs": [],
   "source": [
    "data['purpose_category_id'] = data['purpose_category'].apply(categorize_id_purpose)\n",
    "#создаю колонку с ID категорий"
   ]
  },
  {
   "cell_type": "code",
   "execution_count": 69,
   "id": "7391b5d6",
   "metadata": {},
   "outputs": [],
   "source": [
    "def converse_debt_purpose_category(category_purpose): # создаю функцию для вычисления конверсии\n",
    "    debt_0 = data[data['purpose_category_id'] == category_purpose]['debt'].count()\n",
    "    debt_1 = data[(data['purpose_category_id'] == category_purpose) & (data['debt'] == 1)]['purpose_category_id'].count()\n",
    "    converse = debt_1 / debt_0 * 100\n",
    "    return converse"
   ]
  },
  {
   "cell_type": "code",
   "execution_count": 70,
   "id": "647eb67a",
   "metadata": {},
   "outputs": [],
   "source": [
    "converse_purpose_category_id = [] # создаю цикл, для вычисления конвесрии по каждой группе\n",
    "for purpose_id in data.sort_values('purpose_category_id', ascending=True)['purpose_category_id'].unique():\n",
    "    count_purpose_category_id = []\n",
    "    if purpose_id not in count_purpose_category_id:\n",
    "        count_purpose_category_id.append(purpose_id)\n",
    "        converse_purpose_category_id.append(converse_debt_purpose_category(purpose_id))"
   ]
  },
  {
   "cell_type": "code",
   "execution_count": 71,
   "id": "8ee72858",
   "metadata": {
    "scrolled": true
   },
   "outputs": [
    {
     "data": {
      "text/plain": [
       "<AxesSubplot:>"
      ]
     },
     "execution_count": 71,
     "metadata": {},
     "output_type": "execute_result"
    },
    {
     "data": {
      "image/png": "[encoded data removed]",
      "text/plain": [
       "<Figure size 432x288 with 1 Axes>"
      ]
     },
     "metadata": {
      "needs_background": "light"
     },
     "output_type": "display_data"
    }
   ],
   "source": [
    "text_category_id = ['операции с недвижимостью', 'операции с автомобилем', 'получение образования', 'проведение свадьбы']\n",
    "# # т.к. нам известен порядок размещения ID для категорий целей кредита, создаю переменную со значениями для оси Y\n",
    "seaborn.barplot(x=converse_purpose_category_id, y=text_category_id); # сраавниваю полученный результат"
   ]
  },
  {
   "cell_type": "markdown",
   "id": "b4bb2ce6",
   "metadata": {
    "deletable": false,
    "id": "b4bb2ce6"
   },
   "source": [
    "**Вывод:** Из полученных данных можно увидеть, что кредиты на \"операции с недвижимостью\" и \"проведение свадьбы\" закроют в срок с большей вероятностью."
   ]
  },
  {
   "cell_type": "markdown",
   "id": "09c3ac4c",
   "metadata": {
    "deletable": false,
    "editable": false,
    "id": "09c3ac4c"
   },
   "source": [
    "**Задание 23. Приведите возможные причины появления пропусков в исходных данных.**"
   ]
  },
  {
   "cell_type": "markdown",
   "id": "9da2ceda",
   "metadata": {
    "deletable": false,
    "id": "9da2ceda"
   },
   "source": [
    "*Ответ:* **Первая причина.** Как видно из информации файла, пропусков равное количество в столбцах с трудовым стажем и общим доходом заемщиков. Возможно для этой суммы кредита или статуса заемщика не требовались эти данные. Так же видно, что абсолютное большинство заещиков без просрочек по кредиту, а те, у кого есть просрочка большинство относятся к категории сотрудники.\\\n",
    "**Вторая причина.** Зарплатные клиенты."
   ]
  },
  {
   "cell_type": "markdown",
   "id": "7b0487d6",
   "metadata": {
    "deletable": false,
    "editable": false,
    "id": "7b0487d6"
   },
   "source": [
    "**Задание 24. Объясните, почему заполнить пропуски медианным значением — лучшее решение для количественных переменных.**"
   ]
  },
  {
   "cell_type": "markdown",
   "id": "7ecf2b8e",
   "metadata": {
    "deletable": false,
    "id": "7ecf2b8e"
   },
   "source": [
    "*Ответ:* Медианные значения позволяют отсечь аномально высокие или низкие данные, чтобы они не брались во внимание при подсчетах."
   ]
  },
  {
   "cell_type": "markdown",
   "id": "6db5255a",
   "metadata": {
    "deletable": false,
    "editable": false,
    "id": "6db5255a"
   },
   "source": [
    "## Общий вывод."
   ]
  },
  {
   "cell_type": "markdown",
   "id": "bad65432",
   "metadata": {
    "id": "bad65432"
   },
   "source": [
    "На основании полученых данных, с учетом всех выявленных зависимостей можно категории менее или более рисковых заёмщиков, на основании которых можно выдавать кредит, так же эти категории позволят определить процентную ставку и сумму кредита. Чтоб покрыть риски ставка соответственно будет больше, и меньше сумма которую можно взять в кредит."
   ]
  }
 ],
 "metadata": {
  "ExecuteTimeLog": [
   {
    "duration": 497,
    "start_time": "2022-07-28T21:58:52.367Z"
   },
   {
    "duration": 24,
    "start_time": "2022-07-28T22:19:47.461Z"
   },
   {
    "duration": 5,
    "start_time": "2022-07-28T22:42:55.762Z"
   },
   {
    "duration": 66,
    "start_time": "2022-07-28T22:50:19.703Z"
   },
   {
    "duration": 484,
    "start_time": "2022-07-28T22:56:25.898Z"
   },
   {
    "duration": 29,
    "start_time": "2022-07-28T22:56:26.385Z"
   },
   {
    "duration": 16,
    "start_time": "2022-07-28T22:56:26.416Z"
   },
   {
    "duration": 10,
    "start_time": "2022-07-28T22:56:26.435Z"
   },
   {
    "duration": 57,
    "start_time": "2022-07-28T22:56:26.447Z"
   },
   {
    "duration": 3,
    "start_time": "2022-07-28T22:56:26.506Z"
   },
   {
    "duration": 18,
    "start_time": "2022-07-28T22:56:26.510Z"
   },
   {
    "duration": 11,
    "start_time": "2022-07-28T22:56:26.529Z"
   },
   {
    "duration": 17,
    "start_time": "2022-07-28T22:56:26.541Z"
   },
   {
    "duration": 25,
    "start_time": "2022-07-28T22:56:26.560Z"
   },
   {
    "duration": 32,
    "start_time": "2022-07-28T22:56:26.587Z"
   },
   {
    "duration": 9,
    "start_time": "2022-07-28T22:56:26.620Z"
   },
   {
    "duration": 14,
    "start_time": "2022-07-28T22:56:26.630Z"
   },
   {
    "duration": 45,
    "start_time": "2022-07-28T22:56:26.646Z"
   },
   {
    "duration": 19,
    "start_time": "2022-07-28T22:56:26.693Z"
   },
   {
    "duration": 11,
    "start_time": "2022-07-28T22:56:26.713Z"
   },
   {
    "duration": 20,
    "start_time": "2022-07-28T22:56:26.725Z"
   },
   {
    "duration": 27,
    "start_time": "2022-07-28T22:56:26.746Z"
   },
   {
    "duration": 22,
    "start_time": "2022-07-28T22:56:26.775Z"
   },
   {
    "duration": 14,
    "start_time": "2022-07-28T22:56:26.798Z"
   },
   {
    "duration": 25,
    "start_time": "2022-07-28T22:56:26.813Z"
   },
   {
    "duration": 39,
    "start_time": "2022-07-28T22:56:26.840Z"
   },
   {
    "duration": 90,
    "start_time": "2022-07-28T22:56:26.881Z"
   },
   {
    "duration": 0,
    "start_time": "2022-07-28T22:56:26.973Z"
   },
   {
    "duration": 0,
    "start_time": "2022-07-28T22:56:26.974Z"
   },
   {
    "duration": 0,
    "start_time": "2022-07-28T22:56:26.975Z"
   },
   {
    "duration": 494,
    "start_time": "2022-07-28T23:01:08.056Z"
   },
   {
    "duration": 20,
    "start_time": "2022-07-28T23:01:08.552Z"
   },
   {
    "duration": 13,
    "start_time": "2022-07-28T23:01:08.573Z"
   },
   {
    "duration": 10,
    "start_time": "2022-07-28T23:01:08.588Z"
   },
   {
    "duration": 43,
    "start_time": "2022-07-28T23:01:08.600Z"
   },
   {
    "duration": 4,
    "start_time": "2022-07-28T23:01:08.644Z"
   },
   {
    "duration": 8,
    "start_time": "2022-07-28T23:01:08.660Z"
   },
   {
    "duration": 4,
    "start_time": "2022-07-28T23:01:08.669Z"
   },
   {
    "duration": 11,
    "start_time": "2022-07-28T23:01:08.675Z"
   },
   {
    "duration": 6,
    "start_time": "2022-07-28T23:01:08.689Z"
   },
   {
    "duration": 73,
    "start_time": "2022-07-28T23:01:08.697Z"
   },
   {
    "duration": 13,
    "start_time": "2022-07-28T23:01:08.772Z"
   },
   {
    "duration": 7,
    "start_time": "2022-07-28T23:01:08.787Z"
   },
   {
    "duration": 22,
    "start_time": "2022-07-28T23:01:08.796Z"
   },
   {
    "duration": 43,
    "start_time": "2022-07-28T23:01:08.820Z"
   },
   {
    "duration": 13,
    "start_time": "2022-07-28T23:01:08.865Z"
   },
   {
    "duration": 6,
    "start_time": "2022-07-28T23:01:08.881Z"
   },
   {
    "duration": 21,
    "start_time": "2022-07-28T23:01:08.889Z"
   },
   {
    "duration": 8,
    "start_time": "2022-07-28T23:01:08.912Z"
   },
   {
    "duration": 5,
    "start_time": "2022-07-28T23:01:08.922Z"
   },
   {
    "duration": 33,
    "start_time": "2022-07-28T23:01:08.929Z"
   },
   {
    "duration": 20,
    "start_time": "2022-07-28T23:01:08.963Z"
   },
   {
    "duration": 2,
    "start_time": "2022-07-28T23:01:08.985Z"
   },
   {
    "duration": 5,
    "start_time": "2022-07-28T23:01:08.989Z"
   },
   {
    "duration": 5,
    "start_time": "2022-07-28T23:01:08.996Z"
   },
   {
    "duration": 23,
    "start_time": "2022-07-28T23:01:52.626Z"
   },
   {
    "duration": 10,
    "start_time": "2022-07-29T18:15:44.841Z"
   },
   {
    "duration": 10,
    "start_time": "2022-07-29T18:16:51.574Z"
   },
   {
    "duration": 9,
    "start_time": "2022-07-29T18:16:58.816Z"
   },
   {
    "duration": 8,
    "start_time": "2022-07-29T18:17:43.010Z"
   },
   {
    "duration": 9,
    "start_time": "2022-07-29T18:17:58.380Z"
   },
   {
    "duration": 15,
    "start_time": "2022-07-29T18:18:05.553Z"
   },
   {
    "duration": 66,
    "start_time": "2022-07-29T18:51:20.652Z"
   },
   {
    "duration": 5,
    "start_time": "2022-07-29T18:58:31.982Z"
   },
   {
    "duration": 10,
    "start_time": "2022-07-29T18:58:33.943Z"
   },
   {
    "duration": 3,
    "start_time": "2022-07-29T18:58:59.247Z"
   },
   {
    "duration": 18,
    "start_time": "2022-07-29T18:59:02.412Z"
   },
   {
    "duration": 974,
    "start_time": "2022-07-29T18:59:04.189Z"
   },
   {
    "duration": 123,
    "start_time": "2022-07-29T18:59:05.433Z"
   },
   {
    "duration": 6,
    "start_time": "2022-07-29T19:18:42.344Z"
   },
   {
    "duration": 4,
    "start_time": "2022-07-29T19:18:45.817Z"
   },
   {
    "duration": 7,
    "start_time": "2022-07-29T19:24:29.083Z"
   },
   {
    "duration": 8,
    "start_time": "2022-07-29T19:24:31.444Z"
   },
   {
    "duration": 3,
    "start_time": "2022-07-29T19:28:57.029Z"
   },
   {
    "duration": 5,
    "start_time": "2022-07-29T19:34:05.237Z"
   },
   {
    "duration": 24,
    "start_time": "2022-07-29T19:34:07.078Z"
   },
   {
    "duration": 20,
    "start_time": "2022-07-29T19:34:17.392Z"
   },
   {
    "duration": 18,
    "start_time": "2022-07-29T19:34:43.804Z"
   },
   {
    "duration": 4,
    "start_time": "2022-07-29T19:36:34.300Z"
   },
   {
    "duration": 167,
    "start_time": "2022-07-29T19:37:02.211Z"
   },
   {
    "duration": 3,
    "start_time": "2022-07-29T19:37:39.124Z"
   },
   {
    "duration": 26,
    "start_time": "2022-07-29T19:53:31.177Z"
   },
   {
    "duration": 95,
    "start_time": "2022-07-29T19:57:04.378Z"
   },
   {
    "duration": 13,
    "start_time": "2022-07-29T19:59:57.286Z"
   },
   {
    "duration": 4,
    "start_time": "2022-07-29T20:00:54.459Z"
   },
   {
    "duration": 4,
    "start_time": "2022-07-29T20:02:08.655Z"
   },
   {
    "duration": 24,
    "start_time": "2022-07-29T20:02:10.608Z"
   },
   {
    "duration": 90,
    "start_time": "2022-07-29T20:02:43.073Z"
   },
   {
    "duration": 6,
    "start_time": "2022-07-29T20:12:26.793Z"
   },
   {
    "duration": 4,
    "start_time": "2022-07-29T20:38:56.764Z"
   },
   {
    "duration": 46,
    "start_time": "2022-07-29T20:40:32.139Z"
   },
   {
    "duration": 4,
    "start_time": "2022-07-29T20:40:34.232Z"
   },
   {
    "duration": 4,
    "start_time": "2022-07-29T20:41:24.611Z"
   },
   {
    "duration": 8,
    "start_time": "2022-07-29T20:41:40.065Z"
   },
   {
    "duration": 3,
    "start_time": "2022-07-29T20:41:41.708Z"
   },
   {
    "duration": 3,
    "start_time": "2022-07-29T20:41:44.442Z"
   },
   {
    "duration": 40,
    "start_time": "2022-07-29T20:41:45.951Z"
   },
   {
    "duration": 109,
    "start_time": "2022-07-29T20:41:58.053Z"
   },
   {
    "duration": 3,
    "start_time": "2022-07-29T20:44:10.236Z"
   },
   {
    "duration": 4,
    "start_time": "2022-07-29T20:49:28.120Z"
   },
   {
    "duration": 35,
    "start_time": "2022-07-29T20:49:30.329Z"
   },
   {
    "duration": 102,
    "start_time": "2022-07-29T20:49:32.251Z"
   },
   {
    "duration": 56,
    "start_time": "2022-07-31T19:48:10.217Z"
   },
   {
    "duration": 570,
    "start_time": "2022-07-31T19:48:18.378Z"
   },
   {
    "duration": 23,
    "start_time": "2022-07-31T19:48:21.368Z"
   },
   {
    "duration": 19,
    "start_time": "2022-07-31T19:48:24.465Z"
   },
   {
    "duration": 15,
    "start_time": "2022-07-31T19:48:26.732Z"
   },
   {
    "duration": 23,
    "start_time": "2022-07-31T19:48:34.837Z"
   },
   {
    "duration": 493,
    "start_time": "2022-07-31T19:56:46.073Z"
   },
   {
    "duration": 28,
    "start_time": "2022-07-31T19:56:46.569Z"
   },
   {
    "duration": 22,
    "start_time": "2022-07-31T19:56:46.599Z"
   },
   {
    "duration": 20,
    "start_time": "2022-07-31T19:56:46.626Z"
   },
   {
    "duration": 82,
    "start_time": "2022-07-31T19:56:46.648Z"
   },
   {
    "duration": 5,
    "start_time": "2022-07-31T19:56:46.732Z"
   },
   {
    "duration": 20,
    "start_time": "2022-07-31T19:56:46.738Z"
   },
   {
    "duration": 10,
    "start_time": "2022-07-31T19:56:46.760Z"
   },
   {
    "duration": 20,
    "start_time": "2022-07-31T19:56:46.771Z"
   },
   {
    "duration": 47,
    "start_time": "2022-07-31T19:56:46.794Z"
   },
   {
    "duration": 44,
    "start_time": "2022-07-31T19:56:46.844Z"
   },
   {
    "duration": 12,
    "start_time": "2022-07-31T19:56:46.890Z"
   },
   {
    "duration": 15,
    "start_time": "2022-07-31T19:56:46.924Z"
   },
   {
    "duration": 46,
    "start_time": "2022-07-31T19:56:46.941Z"
   },
   {
    "duration": 19,
    "start_time": "2022-07-31T19:56:46.989Z"
   },
   {
    "duration": 17,
    "start_time": "2022-07-31T19:56:47.016Z"
   },
   {
    "duration": 6,
    "start_time": "2022-07-31T19:56:47.035Z"
   },
   {
    "duration": 14,
    "start_time": "2022-07-31T19:56:47.042Z"
   },
   {
    "duration": 6,
    "start_time": "2022-07-31T19:56:47.057Z"
   },
   {
    "duration": 3,
    "start_time": "2022-07-31T19:56:47.065Z"
   },
   {
    "duration": 13,
    "start_time": "2022-07-31T19:56:47.070Z"
   },
   {
    "duration": 27,
    "start_time": "2022-07-31T19:56:47.084Z"
   },
   {
    "duration": 71,
    "start_time": "2022-07-31T19:56:47.118Z"
   },
   {
    "duration": 0,
    "start_time": "2022-07-31T19:56:47.192Z"
   },
   {
    "duration": 0,
    "start_time": "2022-07-31T19:56:47.194Z"
   },
   {
    "duration": 0,
    "start_time": "2022-07-31T19:56:47.195Z"
   },
   {
    "duration": 0,
    "start_time": "2022-07-31T19:56:47.196Z"
   },
   {
    "duration": 0,
    "start_time": "2022-07-31T19:56:47.197Z"
   },
   {
    "duration": 0,
    "start_time": "2022-07-31T19:56:47.204Z"
   },
   {
    "duration": 0,
    "start_time": "2022-07-31T19:56:47.205Z"
   },
   {
    "duration": 0,
    "start_time": "2022-07-31T19:56:47.206Z"
   },
   {
    "duration": 0,
    "start_time": "2022-07-31T19:56:47.207Z"
   },
   {
    "duration": 0,
    "start_time": "2022-07-31T19:56:47.208Z"
   },
   {
    "duration": 0,
    "start_time": "2022-07-31T19:56:47.209Z"
   },
   {
    "duration": 0,
    "start_time": "2022-07-31T19:56:47.210Z"
   },
   {
    "duration": 0,
    "start_time": "2022-07-31T19:56:47.211Z"
   },
   {
    "duration": 0,
    "start_time": "2022-07-31T19:56:47.212Z"
   },
   {
    "duration": 0,
    "start_time": "2022-07-31T19:56:47.213Z"
   },
   {
    "duration": 0,
    "start_time": "2022-07-31T19:56:47.214Z"
   },
   {
    "duration": 0,
    "start_time": "2022-07-31T19:56:47.215Z"
   },
   {
    "duration": 0,
    "start_time": "2022-07-31T19:56:47.216Z"
   },
   {
    "duration": 0,
    "start_time": "2022-07-31T19:56:47.218Z"
   },
   {
    "duration": 0,
    "start_time": "2022-07-31T19:56:47.219Z"
   },
   {
    "duration": 0,
    "start_time": "2022-07-31T19:56:47.220Z"
   },
   {
    "duration": 0,
    "start_time": "2022-07-31T19:56:47.221Z"
   },
   {
    "duration": 0,
    "start_time": "2022-07-31T19:56:47.222Z"
   },
   {
    "duration": 4,
    "start_time": "2022-07-31T19:57:34.784Z"
   },
   {
    "duration": 8,
    "start_time": "2022-07-31T19:57:36.889Z"
   },
   {
    "duration": 5,
    "start_time": "2022-07-31T19:57:39.635Z"
   },
   {
    "duration": 7,
    "start_time": "2022-07-31T19:57:43.320Z"
   },
   {
    "duration": 5,
    "start_time": "2022-07-31T19:57:45.074Z"
   },
   {
    "duration": 35,
    "start_time": "2022-07-31T19:57:46.940Z"
   },
   {
    "duration": 11,
    "start_time": "2022-07-31T19:57:49.369Z"
   },
   {
    "duration": 4,
    "start_time": "2022-07-31T19:57:51.413Z"
   },
   {
    "duration": 22,
    "start_time": "2022-07-31T19:57:53.714Z"
   },
   {
    "duration": 71,
    "start_time": "2022-07-31T19:57:59.056Z"
   },
   {
    "duration": 18,
    "start_time": "2022-07-31T19:58:00.622Z"
   },
   {
    "duration": 18,
    "start_time": "2022-07-31T19:58:03.462Z"
   },
   {
    "duration": 10,
    "start_time": "2022-07-31T19:58:05.425Z"
   },
   {
    "duration": 34,
    "start_time": "2022-07-31T19:58:07.264Z"
   },
   {
    "duration": 3,
    "start_time": "2022-07-31T19:58:09.087Z"
   },
   {
    "duration": 12,
    "start_time": "2022-07-31T19:58:10.817Z"
   },
   {
    "duration": 4,
    "start_time": "2022-07-31T19:58:12.955Z"
   },
   {
    "duration": 6,
    "start_time": "2022-07-31T19:58:14.582Z"
   },
   {
    "duration": 6,
    "start_time": "2022-07-31T19:58:16.186Z"
   },
   {
    "duration": 34,
    "start_time": "2022-07-31T19:58:19.856Z"
   },
   {
    "duration": 9,
    "start_time": "2022-07-31T19:58:22.231Z"
   },
   {
    "duration": 7,
    "start_time": "2022-07-31T19:58:24.410Z"
   },
   {
    "duration": 19,
    "start_time": "2022-07-31T19:58:26.341Z"
   },
   {
    "duration": 791,
    "start_time": "2022-08-23T23:08:35.925Z"
   },
   {
    "duration": 22,
    "start_time": "2022-08-23T23:08:36.718Z"
   },
   {
    "duration": 16,
    "start_time": "2022-08-23T23:08:36.742Z"
   },
   {
    "duration": 10,
    "start_time": "2022-08-23T23:08:36.760Z"
   },
   {
    "duration": 54,
    "start_time": "2022-08-23T23:08:36.772Z"
   },
   {
    "duration": 5,
    "start_time": "2022-08-23T23:08:36.828Z"
   },
   {
    "duration": 13,
    "start_time": "2022-08-23T23:08:36.835Z"
   },
   {
    "duration": 4,
    "start_time": "2022-08-23T23:08:36.850Z"
   },
   {
    "duration": 9,
    "start_time": "2022-08-23T23:08:36.855Z"
   },
   {
    "duration": 4,
    "start_time": "2022-08-23T23:08:36.867Z"
   },
   {
    "duration": 72,
    "start_time": "2022-08-23T23:08:36.873Z"
   },
   {
    "duration": 9,
    "start_time": "2022-08-23T23:08:36.947Z"
   },
   {
    "duration": 5,
    "start_time": "2022-08-23T23:08:36.957Z"
   },
   {
    "duration": 20,
    "start_time": "2022-08-23T23:08:36.963Z"
   },
   {
    "duration": 43,
    "start_time": "2022-08-23T23:08:36.985Z"
   },
   {
    "duration": 15,
    "start_time": "2022-08-23T23:08:37.030Z"
   },
   {
    "duration": 5,
    "start_time": "2022-08-23T23:08:37.047Z"
   },
   {
    "duration": 21,
    "start_time": "2022-08-23T23:08:37.054Z"
   },
   {
    "duration": 11,
    "start_time": "2022-08-23T23:08:37.076Z"
   },
   {
    "duration": 5,
    "start_time": "2022-08-23T23:08:37.089Z"
   },
   {
    "duration": 31,
    "start_time": "2022-08-23T23:08:37.100Z"
   },
   {
    "duration": 12,
    "start_time": "2022-08-23T23:08:37.134Z"
   },
   {
    "duration": 85,
    "start_time": "2022-08-23T23:08:37.148Z"
   },
   {
    "duration": 0,
    "start_time": "2022-08-23T23:08:37.236Z"
   },
   {
    "duration": 0,
    "start_time": "2022-08-23T23:08:37.237Z"
   },
   {
    "duration": 0,
    "start_time": "2022-08-23T23:08:37.238Z"
   },
   {
    "duration": 0,
    "start_time": "2022-08-23T23:08:37.239Z"
   },
   {
    "duration": 0,
    "start_time": "2022-08-23T23:08:37.240Z"
   },
   {
    "duration": 0,
    "start_time": "2022-08-23T23:08:37.241Z"
   },
   {
    "duration": 0,
    "start_time": "2022-08-23T23:08:37.242Z"
   },
   {
    "duration": 0,
    "start_time": "2022-08-23T23:08:37.243Z"
   },
   {
    "duration": 0,
    "start_time": "2022-08-23T23:08:37.244Z"
   },
   {
    "duration": 0,
    "start_time": "2022-08-23T23:08:37.245Z"
   },
   {
    "duration": 0,
    "start_time": "2022-08-23T23:08:37.247Z"
   },
   {
    "duration": 0,
    "start_time": "2022-08-23T23:08:37.249Z"
   },
   {
    "duration": 0,
    "start_time": "2022-08-23T23:08:37.250Z"
   },
   {
    "duration": 0,
    "start_time": "2022-08-23T23:08:37.251Z"
   },
   {
    "duration": 0,
    "start_time": "2022-08-23T23:08:37.252Z"
   },
   {
    "duration": 0,
    "start_time": "2022-08-23T23:08:37.254Z"
   },
   {
    "duration": 0,
    "start_time": "2022-08-23T23:08:37.255Z"
   },
   {
    "duration": 0,
    "start_time": "2022-08-23T23:08:37.256Z"
   },
   {
    "duration": 0,
    "start_time": "2022-08-23T23:08:37.257Z"
   },
   {
    "duration": 0,
    "start_time": "2022-08-23T23:08:37.258Z"
   },
   {
    "duration": 0,
    "start_time": "2022-08-23T23:08:37.300Z"
   },
   {
    "duration": 0,
    "start_time": "2022-08-23T23:08:37.302Z"
   },
   {
    "duration": 0,
    "start_time": "2022-08-23T23:08:37.303Z"
   },
   {
    "duration": 456,
    "start_time": "2022-08-23T23:08:59.946Z"
   },
   {
    "duration": 32,
    "start_time": "2022-08-23T23:09:00.407Z"
   },
   {
    "duration": 26,
    "start_time": "2022-08-23T23:09:00.440Z"
   },
   {
    "duration": 18,
    "start_time": "2022-08-23T23:09:00.468Z"
   },
   {
    "duration": 45,
    "start_time": "2022-08-23T23:09:00.488Z"
   },
   {
    "duration": 13,
    "start_time": "2022-08-23T23:09:00.535Z"
   },
   {
    "duration": 24,
    "start_time": "2022-08-23T23:09:00.549Z"
   },
   {
    "duration": 10,
    "start_time": "2022-08-23T23:09:00.574Z"
   },
   {
    "duration": 50,
    "start_time": "2022-08-23T23:09:00.585Z"
   },
   {
    "duration": 16,
    "start_time": "2022-08-23T23:09:00.638Z"
   },
   {
    "duration": 41,
    "start_time": "2022-08-23T23:09:00.656Z"
   },
   {
    "duration": 21,
    "start_time": "2022-08-23T23:09:00.699Z"
   },
   {
    "duration": 10,
    "start_time": "2022-08-23T23:09:00.723Z"
   },
   {
    "duration": 45,
    "start_time": "2022-08-23T23:09:00.736Z"
   },
   {
    "duration": 29,
    "start_time": "2022-08-23T23:09:00.784Z"
   },
   {
    "duration": 13,
    "start_time": "2022-08-23T23:09:00.816Z"
   },
   {
    "duration": 19,
    "start_time": "2022-08-23T23:09:00.832Z"
   },
   {
    "duration": 17,
    "start_time": "2022-08-23T23:09:00.854Z"
   },
   {
    "duration": 17,
    "start_time": "2022-08-23T23:09:00.873Z"
   },
   {
    "duration": 13,
    "start_time": "2022-08-23T23:09:00.892Z"
   },
   {
    "duration": 32,
    "start_time": "2022-08-23T23:09:00.907Z"
   },
   {
    "duration": 21,
    "start_time": "2022-08-23T23:09:00.941Z"
   },
   {
    "duration": 93,
    "start_time": "2022-08-23T23:09:00.965Z"
   },
   {
    "duration": 0,
    "start_time": "2022-08-23T23:09:01.061Z"
   },
   {
    "duration": 0,
    "start_time": "2022-08-23T23:09:01.063Z"
   },
   {
    "duration": 0,
    "start_time": "2022-08-23T23:09:01.064Z"
   },
   {
    "duration": 0,
    "start_time": "2022-08-23T23:09:01.066Z"
   },
   {
    "duration": 0,
    "start_time": "2022-08-23T23:09:01.067Z"
   },
   {
    "duration": 0,
    "start_time": "2022-08-23T23:09:01.069Z"
   },
   {
    "duration": 0,
    "start_time": "2022-08-23T23:09:01.070Z"
   },
   {
    "duration": 0,
    "start_time": "2022-08-23T23:09:01.072Z"
   },
   {
    "duration": 0,
    "start_time": "2022-08-23T23:09:01.074Z"
   },
   {
    "duration": 0,
    "start_time": "2022-08-23T23:09:01.075Z"
   },
   {
    "duration": 0,
    "start_time": "2022-08-23T23:09:01.076Z"
   },
   {
    "duration": 0,
    "start_time": "2022-08-23T23:09:01.078Z"
   },
   {
    "duration": 0,
    "start_time": "2022-08-23T23:09:01.104Z"
   },
   {
    "duration": 0,
    "start_time": "2022-08-23T23:09:01.105Z"
   },
   {
    "duration": 0,
    "start_time": "2022-08-23T23:09:01.106Z"
   },
   {
    "duration": 0,
    "start_time": "2022-08-23T23:09:01.107Z"
   },
   {
    "duration": 0,
    "start_time": "2022-08-23T23:09:01.108Z"
   },
   {
    "duration": 0,
    "start_time": "2022-08-23T23:09:01.109Z"
   },
   {
    "duration": 0,
    "start_time": "2022-08-23T23:09:01.110Z"
   },
   {
    "duration": 0,
    "start_time": "2022-08-23T23:09:01.110Z"
   },
   {
    "duration": 0,
    "start_time": "2022-08-23T23:09:01.111Z"
   },
   {
    "duration": 0,
    "start_time": "2022-08-23T23:09:01.112Z"
   },
   {
    "duration": 0,
    "start_time": "2022-08-23T23:09:01.113Z"
   },
   {
    "duration": 109,
    "start_time": "2022-08-23T23:09:17.175Z"
   },
   {
    "duration": 25,
    "start_time": "2022-08-23T23:09:19.299Z"
   },
   {
    "duration": 23,
    "start_time": "2022-08-23T23:09:19.816Z"
   },
   {
    "duration": 9,
    "start_time": "2022-08-23T23:09:20.886Z"
   },
   {
    "duration": 39,
    "start_time": "2022-08-23T23:09:21.395Z"
   },
   {
    "duration": 3,
    "start_time": "2022-08-23T23:09:22.172Z"
   },
   {
    "duration": 8,
    "start_time": "2022-08-23T23:09:22.661Z"
   },
   {
    "duration": 5,
    "start_time": "2022-08-23T23:09:23.540Z"
   },
   {
    "duration": 6,
    "start_time": "2022-08-23T23:09:24.061Z"
   },
   {
    "duration": 6,
    "start_time": "2022-08-23T23:09:24.531Z"
   },
   {
    "duration": 35,
    "start_time": "2022-08-23T23:09:25.171Z"
   },
   {
    "duration": 12,
    "start_time": "2022-08-23T23:09:25.594Z"
   },
   {
    "duration": 4,
    "start_time": "2022-08-23T23:09:26.364Z"
   },
   {
    "duration": 17,
    "start_time": "2022-08-23T23:09:27.179Z"
   },
   {
    "duration": 18,
    "start_time": "2022-08-23T23:09:27.460Z"
   },
   {
    "duration": 12,
    "start_time": "2022-08-23T23:09:28.015Z"
   },
   {
    "duration": 5,
    "start_time": "2022-08-23T23:09:28.830Z"
   },
   {
    "duration": 14,
    "start_time": "2022-08-23T23:09:29.106Z"
   },
   {
    "duration": 9,
    "start_time": "2022-08-23T23:09:29.730Z"
   },
   {
    "duration": 5,
    "start_time": "2022-08-23T23:09:30.883Z"
   },
   {
    "duration": 12,
    "start_time": "2022-08-23T23:09:31.337Z"
   },
   {
    "duration": 16,
    "start_time": "2022-08-23T23:09:36.495Z"
   },
   {
    "duration": 17,
    "start_time": "2022-08-23T23:09:53.010Z"
   },
   {
    "duration": 3,
    "start_time": "2022-08-23T23:09:57.694Z"
   },
   {
    "duration": 41,
    "start_time": "2022-08-23T23:10:01.276Z"
   },
   {
    "duration": 896,
    "start_time": "2022-08-23T23:10:03.895Z"
   },
   {
    "duration": 146,
    "start_time": "2022-08-23T23:10:05.456Z"
   },
   {
    "duration": 133,
    "start_time": "2022-08-23T23:10:12.349Z"
   },
   {
    "duration": 13,
    "start_time": "2022-08-23T23:10:31.494Z"
   },
   {
    "duration": 5,
    "start_time": "2022-08-23T23:10:32.664Z"
   },
   {
    "duration": 8,
    "start_time": "2022-08-23T23:10:33.718Z"
   },
   {
    "duration": 13,
    "start_time": "2022-08-23T23:10:37.002Z"
   },
   {
    "duration": 4,
    "start_time": "2022-08-23T23:10:47.838Z"
   },
   {
    "duration": 27,
    "start_time": "2022-08-23T23:10:49.022Z"
   },
   {
    "duration": 3,
    "start_time": "2022-08-23T23:10:49.552Z"
   },
   {
    "duration": 173,
    "start_time": "2022-08-23T23:10:50.053Z"
   },
   {
    "duration": 125,
    "start_time": "2022-08-23T23:10:56.791Z"
   },
   {
    "duration": 11,
    "start_time": "2022-08-23T23:11:01.839Z"
   },
   {
    "duration": 25,
    "start_time": "2022-08-23T23:11:02.226Z"
   },
   {
    "duration": 5,
    "start_time": "2022-08-23T23:11:02.723Z"
   },
   {
    "duration": 39,
    "start_time": "2022-08-23T23:11:03.152Z"
   },
   {
    "duration": 102,
    "start_time": "2022-08-23T23:11:03.615Z"
   },
   {
    "duration": 8,
    "start_time": "2022-08-23T23:11:05.621Z"
   },
   {
    "duration": 4,
    "start_time": "2022-08-23T23:11:05.834Z"
   },
   {
    "duration": 10,
    "start_time": "2022-08-23T23:11:06.067Z"
   },
   {
    "duration": 7,
    "start_time": "2022-08-23T23:11:16.402Z"
   },
   {
    "duration": 35,
    "start_time": "2022-08-23T23:11:17.227Z"
   },
   {
    "duration": 109,
    "start_time": "2022-08-23T23:11:17.723Z"
   }
  ],
  "colab": {
   "name": "dpp_template_part2.ipynb",
   "provenance": []
  },
  "kernelspec": {
   "display_name": "Python 3 (ipykernel)",
   "language": "python",
   "name": "python3"
  },
  "language_info": {
   "codemirror_mode": {
    "name": "ipython",
    "version": 3
   },
   "file_extension": ".py",
   "mimetype": "text/x-python",
   "name": "python",
   "nbconvert_exporter": "python",
   "pygments_lexer": "ipython3",
   "version": "3.9.12"
  },
  "toc": {
   "base_numbering": 1,
   "nav_menu": {},
   "number_sections": true,
   "sideBar": true,
   "skip_h1_title": true,
   "title_cell": "Table of Contents",
   "title_sidebar": "Contents",
   "toc_cell": false,
   "toc_position": {},
   "toc_section_display": true,
   "toc_window_display": false
  }
 },
 "nbformat": 4,
 "nbformat_minor": 5
}

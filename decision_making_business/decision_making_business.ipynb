{
 "cells": [
  {
   "cell_type": "markdown",
   "id": "60eec68d",
   "metadata": {},
   "source": [
    "# Проект: Принятие решений в бизнесе"
   ]
  },
  {
   "cell_type": "markdown",
   "id": "2d8d9a94",
   "metadata": {},
   "source": [
    "**Описание проекта**\n",
    "\n",
    "**Контекст**\n",
    "\n",
    "Вы — аналитик крупного интернет-магазина. Вместе с отделом маркетинга вы подготовили список гипотез для увеличения выручки.\n",
    "Приоритизируйте гипотезы, запустите A/B-тест и проанализируйте результаты.\n",
    "\n",
    "**Описание данных**\n",
    "\n",
    "**Данные для первой части**\n",
    "\n",
    "Файл `Hypothesis`:\n",
    "- Hypothesis — краткое описание гипотезы;\n",
    "- Reach — охват пользователей по 10-балльной шкале;\n",
    "- Impact — влияние на пользователей по 10-балльной шкале;\n",
    "- Confidence — уверенность в гипотезе по 10-балльной шкале;\n",
    "- Efforts — затраты ресурсов на проверку гипотезы по 10-балльной шкале. Чем больше значение Efforts, тем дороже проверка гипотезы.\n",
    "\n",
    "**Данные для второй части**\n",
    "\n",
    "Файл `Orders`:\n",
    "- transactionId — идентификатор заказа;\n",
    "- visitorId — идентификатор пользователя, совершившего заказ;\n",
    "- date — дата, когда был совершён заказ;\n",
    "- revenue — выручка заказа;\n",
    "- group — группа A/B-теста, в которую попал заказ.\n",
    "\n",
    "Файл `Visitors`:\n",
    "- date — дата;\n",
    "- group — группа A/B-теста;\n",
    "- visitors — количество пользователей в указанную дату в указанной группе A/B-теста"
   ]
  },
  {
   "cell_type": "markdown",
   "id": "5942b336",
   "metadata": {},
   "source": [
    "## 1.  Приоритизация гипотез"
   ]
  },
  {
   "cell_type": "markdown",
   "id": "e2cc8f5e",
   "metadata": {},
   "source": [
    "### 1.1. Загрузка данных и подготовка к анализу"
   ]
  },
  {
   "cell_type": "code",
   "execution_count": 1,
   "id": "b93f2b16",
   "metadata": {},
   "outputs": [],
   "source": [
    "# импортирую необходимые библиотеки\n",
    "import pandas as pd\n",
    "import matplotlib.pyplot as plt\n",
    "from scipy import stats as st\n",
    "import numpy as np\n",
    "import math as mth\n",
    "import datetime as dt"
   ]
  },
  {
   "cell_type": "code",
   "execution_count": 2,
   "id": "d7f71725",
   "metadata": {},
   "outputs": [],
   "source": [
    "# считываю данные в переменные hypothesis, visitors, orders\n",
    "try:\n",
    "    hypothesis, visitors, orders = (\n",
    "        pd.read_csv('/datasets/hypothesis.csv'),\n",
    "        pd.read_csv('/datasets/visitors.csv'),\n",
    "        pd.read_csv('/datasets/orders.csv')\n",
    "    )\n",
    "except:\n",
    "    hypothesis, visitors, orders = (\n",
    "        pd.read_csv('https://code.s3.yandex.net/datasets/hypothesis.csv'),\n",
    "        pd.read_csv('https://code.s3.yandex.net/datasets/visitors.csv'),\n",
    "        pd.read_csv('https://code.s3.yandex.net/datasets/orders.csv')\n",
    "    )"
   ]
  },
  {
   "cell_type": "code",
   "execution_count": 3,
   "id": "789abcd8",
   "metadata": {
    "scrolled": false
   },
   "outputs": [
    {
     "data": {
      "text/html": [
       "<div>\n",
       "<style scoped>\n",
       "    .dataframe tbody tr th:only-of-type {\n",
       "        vertical-align: middle;\n",
       "    }\n",
       "\n",
       "    .dataframe tbody tr th {\n",
       "        vertical-align: top;\n",
       "    }\n",
       "\n",
       "    .dataframe thead th {\n",
       "        text-align: right;\n",
       "    }\n",
       "</style>\n",
       "<table border=\"1\" class=\"dataframe\">\n",
       "  <thead>\n",
       "    <tr style=\"text-align: right;\">\n",
       "      <th></th>\n",
       "      <th>Hypothesis</th>\n",
       "      <th>Reach</th>\n",
       "      <th>Impact</th>\n",
       "      <th>Confidence</th>\n",
       "      <th>Efforts</th>\n",
       "    </tr>\n",
       "  </thead>\n",
       "  <tbody>\n",
       "    <tr>\n",
       "      <th>0</th>\n",
       "      <td>Добавить два новых канала привлечения трафика, что позволит привлекать на 30% больше пользователей</td>\n",
       "      <td>3</td>\n",
       "      <td>10</td>\n",
       "      <td>8</td>\n",
       "      <td>6</td>\n",
       "    </tr>\n",
       "    <tr>\n",
       "      <th>1</th>\n",
       "      <td>Запустить собственную службу доставки, что сократит срок доставки заказов</td>\n",
       "      <td>2</td>\n",
       "      <td>5</td>\n",
       "      <td>4</td>\n",
       "      <td>10</td>\n",
       "    </tr>\n",
       "    <tr>\n",
       "      <th>2</th>\n",
       "      <td>Добавить блоки рекомендаций товаров на сайт интернет магазина, чтобы повысить конверсию и средний чек заказа</td>\n",
       "      <td>8</td>\n",
       "      <td>3</td>\n",
       "      <td>7</td>\n",
       "      <td>3</td>\n",
       "    </tr>\n",
       "    <tr>\n",
       "      <th>3</th>\n",
       "      <td>Изменить структура категорий, что увеличит конверсию, т.к. пользователи быстрее найдут нужный товар</td>\n",
       "      <td>8</td>\n",
       "      <td>3</td>\n",
       "      <td>3</td>\n",
       "      <td>8</td>\n",
       "    </tr>\n",
       "    <tr>\n",
       "      <th>4</th>\n",
       "      <td>Изменить цвет фона главной страницы, чтобы увеличить вовлеченность пользователей</td>\n",
       "      <td>3</td>\n",
       "      <td>1</td>\n",
       "      <td>1</td>\n",
       "      <td>1</td>\n",
       "    </tr>\n",
       "    <tr>\n",
       "      <th>5</th>\n",
       "      <td>Добавить страницу отзывов клиентов о магазине, что позволит увеличить количество заказов</td>\n",
       "      <td>3</td>\n",
       "      <td>2</td>\n",
       "      <td>2</td>\n",
       "      <td>3</td>\n",
       "    </tr>\n",
       "    <tr>\n",
       "      <th>6</th>\n",
       "      <td>Показать на главной странице баннеры с актуальными акциями и распродажами, чтобы увеличить конверсию</td>\n",
       "      <td>5</td>\n",
       "      <td>3</td>\n",
       "      <td>8</td>\n",
       "      <td>3</td>\n",
       "    </tr>\n",
       "    <tr>\n",
       "      <th>7</th>\n",
       "      <td>Добавить форму подписки на все основные страницы, чтобы собрать базу клиентов для email-рассылок</td>\n",
       "      <td>10</td>\n",
       "      <td>7</td>\n",
       "      <td>8</td>\n",
       "      <td>5</td>\n",
       "    </tr>\n",
       "    <tr>\n",
       "      <th>8</th>\n",
       "      <td>Запустить акцию, дающую скидку на товар в день рождения</td>\n",
       "      <td>1</td>\n",
       "      <td>9</td>\n",
       "      <td>9</td>\n",
       "      <td>5</td>\n",
       "    </tr>\n",
       "  </tbody>\n",
       "</table>\n",
       "</div>"
      ],
      "text/plain": [
       "                                                                                                     Hypothesis  \\\n",
       "0            Добавить два новых канала привлечения трафика, что позволит привлекать на 30% больше пользователей   \n",
       "1                                     Запустить собственную службу доставки, что сократит срок доставки заказов   \n",
       "2  Добавить блоки рекомендаций товаров на сайт интернет магазина, чтобы повысить конверсию и средний чек заказа   \n",
       "3           Изменить структура категорий, что увеличит конверсию, т.к. пользователи быстрее найдут нужный товар   \n",
       "4                              Изменить цвет фона главной страницы, чтобы увеличить вовлеченность пользователей   \n",
       "5                      Добавить страницу отзывов клиентов о магазине, что позволит увеличить количество заказов   \n",
       "6          Показать на главной странице баннеры с актуальными акциями и распродажами, чтобы увеличить конверсию   \n",
       "7              Добавить форму подписки на все основные страницы, чтобы собрать базу клиентов для email-рассылок   \n",
       "8                                                       Запустить акцию, дающую скидку на товар в день рождения   \n",
       "\n",
       "   Reach  Impact  Confidence  Efforts  \n",
       "0      3      10           8        6  \n",
       "1      2       5           4       10  \n",
       "2      8       3           7        3  \n",
       "3      8       3           3        8  \n",
       "4      3       1           1        1  \n",
       "5      3       2           2        3  \n",
       "6      5       3           8        3  \n",
       "7     10       7           8        5  \n",
       "8      1       9           9        5  "
      ]
     },
     "metadata": {},
     "output_type": "display_data"
    },
    {
     "data": {
      "text/html": [
       "<div>\n",
       "<style scoped>\n",
       "    .dataframe tbody tr th:only-of-type {\n",
       "        vertical-align: middle;\n",
       "    }\n",
       "\n",
       "    .dataframe tbody tr th {\n",
       "        vertical-align: top;\n",
       "    }\n",
       "\n",
       "    .dataframe thead th {\n",
       "        text-align: right;\n",
       "    }\n",
       "</style>\n",
       "<table border=\"1\" class=\"dataframe\">\n",
       "  <thead>\n",
       "    <tr style=\"text-align: right;\">\n",
       "      <th></th>\n",
       "      <th>date</th>\n",
       "      <th>group</th>\n",
       "      <th>visitors</th>\n",
       "    </tr>\n",
       "  </thead>\n",
       "  <tbody>\n",
       "    <tr>\n",
       "      <th>0</th>\n",
       "      <td>2019-08-01</td>\n",
       "      <td>A</td>\n",
       "      <td>719</td>\n",
       "    </tr>\n",
       "    <tr>\n",
       "      <th>1</th>\n",
       "      <td>2019-08-02</td>\n",
       "      <td>A</td>\n",
       "      <td>619</td>\n",
       "    </tr>\n",
       "    <tr>\n",
       "      <th>2</th>\n",
       "      <td>2019-08-03</td>\n",
       "      <td>A</td>\n",
       "      <td>507</td>\n",
       "    </tr>\n",
       "    <tr>\n",
       "      <th>3</th>\n",
       "      <td>2019-08-04</td>\n",
       "      <td>A</td>\n",
       "      <td>717</td>\n",
       "    </tr>\n",
       "    <tr>\n",
       "      <th>4</th>\n",
       "      <td>2019-08-05</td>\n",
       "      <td>A</td>\n",
       "      <td>756</td>\n",
       "    </tr>\n",
       "  </tbody>\n",
       "</table>\n",
       "</div>"
      ],
      "text/plain": [
       "         date group  visitors\n",
       "0  2019-08-01     A       719\n",
       "1  2019-08-02     A       619\n",
       "2  2019-08-03     A       507\n",
       "3  2019-08-04     A       717\n",
       "4  2019-08-05     A       756"
      ]
     },
     "metadata": {},
     "output_type": "display_data"
    },
    {
     "data": {
      "text/html": [
       "<div>\n",
       "<style scoped>\n",
       "    .dataframe tbody tr th:only-of-type {\n",
       "        vertical-align: middle;\n",
       "    }\n",
       "\n",
       "    .dataframe tbody tr th {\n",
       "        vertical-align: top;\n",
       "    }\n",
       "\n",
       "    .dataframe thead th {\n",
       "        text-align: right;\n",
       "    }\n",
       "</style>\n",
       "<table border=\"1\" class=\"dataframe\">\n",
       "  <thead>\n",
       "    <tr style=\"text-align: right;\">\n",
       "      <th></th>\n",
       "      <th>transactionId</th>\n",
       "      <th>visitorId</th>\n",
       "      <th>date</th>\n",
       "      <th>revenue</th>\n",
       "      <th>group</th>\n",
       "    </tr>\n",
       "  </thead>\n",
       "  <tbody>\n",
       "    <tr>\n",
       "      <th>0</th>\n",
       "      <td>3667963787</td>\n",
       "      <td>3312258926</td>\n",
       "      <td>2019-08-15</td>\n",
       "      <td>1650</td>\n",
       "      <td>B</td>\n",
       "    </tr>\n",
       "    <tr>\n",
       "      <th>1</th>\n",
       "      <td>2804400009</td>\n",
       "      <td>3642806036</td>\n",
       "      <td>2019-08-15</td>\n",
       "      <td>730</td>\n",
       "      <td>B</td>\n",
       "    </tr>\n",
       "    <tr>\n",
       "      <th>2</th>\n",
       "      <td>2961555356</td>\n",
       "      <td>4069496402</td>\n",
       "      <td>2019-08-15</td>\n",
       "      <td>400</td>\n",
       "      <td>A</td>\n",
       "    </tr>\n",
       "    <tr>\n",
       "      <th>3</th>\n",
       "      <td>3797467345</td>\n",
       "      <td>1196621759</td>\n",
       "      <td>2019-08-15</td>\n",
       "      <td>9759</td>\n",
       "      <td>B</td>\n",
       "    </tr>\n",
       "    <tr>\n",
       "      <th>4</th>\n",
       "      <td>2282983706</td>\n",
       "      <td>2322279887</td>\n",
       "      <td>2019-08-15</td>\n",
       "      <td>2308</td>\n",
       "      <td>B</td>\n",
       "    </tr>\n",
       "  </tbody>\n",
       "</table>\n",
       "</div>"
      ],
      "text/plain": [
       "   transactionId   visitorId        date  revenue group\n",
       "0     3667963787  3312258926  2019-08-15     1650     B\n",
       "1     2804400009  3642806036  2019-08-15      730     B\n",
       "2     2961555356  4069496402  2019-08-15      400     A\n",
       "3     3797467345  1196621759  2019-08-15     9759     B\n",
       "4     2282983706  2322279887  2019-08-15     2308     B"
      ]
     },
     "metadata": {},
     "output_type": "display_data"
    }
   ],
   "source": [
    "# первое знакомство с таблицами\n",
    "pd.set_option('display.max_colwidth', None)\n",
    "display(hypothesis)\n",
    "display(visitors.head())\n",
    "display(orders.head())"
   ]
  },
  {
   "cell_type": "code",
   "execution_count": 4,
   "id": "e5bc70d2",
   "metadata": {
    "scrolled": false
   },
   "outputs": [
    {
     "name": "stdout",
     "output_type": "stream",
     "text": [
      "<class 'pandas.core.frame.DataFrame'>\n",
      "RangeIndex: 9 entries, 0 to 8\n",
      "Data columns (total 5 columns):\n",
      " #   Column      Non-Null Count  Dtype \n",
      "---  ------      --------------  ----- \n",
      " 0   Hypothesis  9 non-null      object\n",
      " 1   Reach       9 non-null      int64 \n",
      " 2   Impact      9 non-null      int64 \n",
      " 3   Confidence  9 non-null      int64 \n",
      " 4   Efforts     9 non-null      int64 \n",
      "dtypes: int64(4), object(1)\n",
      "memory usage: 488.0+ bytes\n"
     ]
    },
    {
     "data": {
      "text/plain": [
       "None"
      ]
     },
     "metadata": {},
     "output_type": "display_data"
    },
    {
     "name": "stdout",
     "output_type": "stream",
     "text": [
      "<class 'pandas.core.frame.DataFrame'>\n",
      "RangeIndex: 62 entries, 0 to 61\n",
      "Data columns (total 3 columns):\n",
      " #   Column    Non-Null Count  Dtype \n",
      "---  ------    --------------  ----- \n",
      " 0   date      62 non-null     object\n",
      " 1   group     62 non-null     object\n",
      " 2   visitors  62 non-null     int64 \n",
      "dtypes: int64(1), object(2)\n",
      "memory usage: 1.6+ KB\n"
     ]
    },
    {
     "data": {
      "text/plain": [
       "None"
      ]
     },
     "metadata": {},
     "output_type": "display_data"
    },
    {
     "name": "stdout",
     "output_type": "stream",
     "text": [
      "<class 'pandas.core.frame.DataFrame'>\n",
      "RangeIndex: 1197 entries, 0 to 1196\n",
      "Data columns (total 5 columns):\n",
      " #   Column         Non-Null Count  Dtype \n",
      "---  ------         --------------  ----- \n",
      " 0   transactionId  1197 non-null   int64 \n",
      " 1   visitorId      1197 non-null   int64 \n",
      " 2   date           1197 non-null   object\n",
      " 3   revenue        1197 non-null   int64 \n",
      " 4   group          1197 non-null   object\n",
      "dtypes: int64(3), object(2)\n",
      "memory usage: 46.9+ KB\n"
     ]
    },
    {
     "data": {
      "text/plain": [
       "None"
      ]
     },
     "metadata": {},
     "output_type": "display_data"
    }
   ],
   "source": [
    "# проверка на пропуски и соответстиве типу данных в таблицах\n",
    "display(hypothesis.info())\n",
    "display(visitors.info())\n",
    "display(orders.info())"
   ]
  },
  {
   "cell_type": "markdown",
   "id": "3ed269f7",
   "metadata": {},
   "source": [
    "**Приведу названия столбцов в привычный вид. В столбцах с датами необходимо изменить тип данных для дальнейшей работы. Пропусков в данных нет.**"
   ]
  },
  {
   "cell_type": "code",
   "execution_count": 5,
   "id": "b45ab0e3",
   "metadata": {},
   "outputs": [],
   "source": [
    "#столбцы перевожу в нижний регистр\n",
    "hypothesis.columns = hypothesis.columns.str.lower()\n",
    "visitors.columns = visitors.columns.str.lower()\n",
    "orders.columns = orders.columns.str.lower()\n",
    "\n",
    "#переименую несколько столбцов\n",
    "orders = orders.rename(columns={'transactionid' : 'transaction_id', 'visitorid' : 'visitor_id'})\n",
    "\n",
    "#изменяю тип данных в столбцах с датой\n",
    "visitors['date'] = visitors['date'].map(lambda x: dt.datetime.strptime(x, '%Y-%m-%d'))\n",
    "orders['date'] = orders['date'].map(lambda x: dt.datetime.strptime(x, '%Y-%m-%d'))"
   ]
  },
  {
   "cell_type": "code",
   "execution_count": 6,
   "id": "14ea8388",
   "metadata": {
    "scrolled": true
   },
   "outputs": [
    {
     "name": "stdout",
     "output_type": "stream",
     "text": [
      "Количество дубликатов в таблице hypothesis: 0\n",
      "Количество дубликатов в таблице visitors: 0\n",
      "Количество дубликатов в таблице orders: 0\n"
     ]
    }
   ],
   "source": [
    "# проверяю данные на явные дубликаты\n",
    "print('Количество дубликатов в таблице hypothesis:', hypothesis.duplicated().sum())\n",
    "print('Количество дубликатов в таблице visitors:',visitors.duplicated().sum())\n",
    "print('Количество дубликатов в таблице orders:',orders.duplicated().sum())"
   ]
  },
  {
   "cell_type": "markdown",
   "id": "f24da060",
   "metadata": {},
   "source": [
    "**Явные дубликаты в таблицах отсутствуют.**"
   ]
  },
  {
   "cell_type": "markdown",
   "id": "ae61bf11",
   "metadata": {},
   "source": [
    "**Данные готовы для дальнейшей работы.**"
   ]
  },
  {
   "cell_type": "markdown",
   "id": "ed6029f1",
   "metadata": {},
   "source": [
    "### 1.2. Приоритизация гипотез"
   ]
  },
  {
   "cell_type": "markdown",
   "id": "1a2f1cfe",
   "metadata": {},
   "source": [
    "**Выделим приоритетные гипотезы с помощью фреймоворков ICE и RICE.**\n",
    "\n",
    "Фреймворк *ICE* состоит из таких компонентов:\n",
    "- Impact — насколько сильно изменение повлияет на пользователей, их опыт и удовлетворение от продукта;\n",
    "- Confidence — насколько вы уверены, что это изменение повлияет на пользователей именно так;\n",
    "- Efforts — сколько стоит протестировать эту гипотезу.\n",
    "\n",
    "Расчитывается по формуле: ICE = impact * confidence / efforts\n",
    "\n",
    "Фреймворк *RICE* помимо компонентов из фреймворка *ICE* включает дополнительный параметр:\n",
    "- Reach — скольких пользователей затронет изменение, которое вы хотите внести.\n",
    "\n",
    "Расчитывается по формуле: RICE = (reach * impact * confidence) / efforts"
   ]
  },
  {
   "cell_type": "code",
   "execution_count": 7,
   "id": "3588325f",
   "metadata": {
    "scrolled": true
   },
   "outputs": [
    {
     "data": {
      "text/html": [
       "<div>\n",
       "<style scoped>\n",
       "    .dataframe tbody tr th:only-of-type {\n",
       "        vertical-align: middle;\n",
       "    }\n",
       "\n",
       "    .dataframe tbody tr th {\n",
       "        vertical-align: top;\n",
       "    }\n",
       "\n",
       "    .dataframe thead th {\n",
       "        text-align: right;\n",
       "    }\n",
       "</style>\n",
       "<table border=\"1\" class=\"dataframe\">\n",
       "  <thead>\n",
       "    <tr style=\"text-align: right;\">\n",
       "      <th></th>\n",
       "      <th>hypothesis</th>\n",
       "      <th>ICE</th>\n",
       "    </tr>\n",
       "  </thead>\n",
       "  <tbody>\n",
       "    <tr>\n",
       "      <th>8</th>\n",
       "      <td>Запустить акцию, дающую скидку на товар в день рождения</td>\n",
       "      <td>16.20</td>\n",
       "    </tr>\n",
       "    <tr>\n",
       "      <th>0</th>\n",
       "      <td>Добавить два новых канала привлечения трафика, что позволит привлекать на 30% больше пользователей</td>\n",
       "      <td>13.33</td>\n",
       "    </tr>\n",
       "    <tr>\n",
       "      <th>7</th>\n",
       "      <td>Добавить форму подписки на все основные страницы, чтобы собрать базу клиентов для email-рассылок</td>\n",
       "      <td>11.20</td>\n",
       "    </tr>\n",
       "    <tr>\n",
       "      <th>6</th>\n",
       "      <td>Показать на главной странице баннеры с актуальными акциями и распродажами, чтобы увеличить конверсию</td>\n",
       "      <td>8.00</td>\n",
       "    </tr>\n",
       "    <tr>\n",
       "      <th>2</th>\n",
       "      <td>Добавить блоки рекомендаций товаров на сайт интернет магазина, чтобы повысить конверсию и средний чек заказа</td>\n",
       "      <td>7.00</td>\n",
       "    </tr>\n",
       "    <tr>\n",
       "      <th>1</th>\n",
       "      <td>Запустить собственную службу доставки, что сократит срок доставки заказов</td>\n",
       "      <td>2.00</td>\n",
       "    </tr>\n",
       "    <tr>\n",
       "      <th>5</th>\n",
       "      <td>Добавить страницу отзывов клиентов о магазине, что позволит увеличить количество заказов</td>\n",
       "      <td>1.33</td>\n",
       "    </tr>\n",
       "    <tr>\n",
       "      <th>3</th>\n",
       "      <td>Изменить структура категорий, что увеличит конверсию, т.к. пользователи быстрее найдут нужный товар</td>\n",
       "      <td>1.12</td>\n",
       "    </tr>\n",
       "    <tr>\n",
       "      <th>4</th>\n",
       "      <td>Изменить цвет фона главной страницы, чтобы увеличить вовлеченность пользователей</td>\n",
       "      <td>1.00</td>\n",
       "    </tr>\n",
       "  </tbody>\n",
       "</table>\n",
       "</div>"
      ],
      "text/plain": [
       "                                                                                                     hypothesis  \\\n",
       "8                                                       Запустить акцию, дающую скидку на товар в день рождения   \n",
       "0            Добавить два новых канала привлечения трафика, что позволит привлекать на 30% больше пользователей   \n",
       "7              Добавить форму подписки на все основные страницы, чтобы собрать базу клиентов для email-рассылок   \n",
       "6          Показать на главной странице баннеры с актуальными акциями и распродажами, чтобы увеличить конверсию   \n",
       "2  Добавить блоки рекомендаций товаров на сайт интернет магазина, чтобы повысить конверсию и средний чек заказа   \n",
       "1                                     Запустить собственную службу доставки, что сократит срок доставки заказов   \n",
       "5                      Добавить страницу отзывов клиентов о магазине, что позволит увеличить количество заказов   \n",
       "3           Изменить структура категорий, что увеличит конверсию, т.к. пользователи быстрее найдут нужный товар   \n",
       "4                              Изменить цвет фона главной страницы, чтобы увеличить вовлеченность пользователей   \n",
       "\n",
       "     ICE  \n",
       "8  16.20  \n",
       "0  13.33  \n",
       "7  11.20  \n",
       "6   8.00  \n",
       "2   7.00  \n",
       "1   2.00  \n",
       "5   1.33  \n",
       "3   1.12  \n",
       "4   1.00  "
      ]
     },
     "metadata": {},
     "output_type": "display_data"
    }
   ],
   "source": [
    "#приоритизация гипотез на основе фреймворка ICE\n",
    "hypothesis['ICE'] = round((hypothesis['impact'] * hypothesis['confidence'] / hypothesis['efforts']),2 )\n",
    "display(hypothesis[['hypothesis', 'ICE']].sort_values(by='ICE', ascending=False))"
   ]
  },
  {
   "cell_type": "code",
   "execution_count": 8,
   "id": "2cf84178",
   "metadata": {
    "scrolled": true
   },
   "outputs": [
    {
     "data": {
      "text/html": [
       "<div>\n",
       "<style scoped>\n",
       "    .dataframe tbody tr th:only-of-type {\n",
       "        vertical-align: middle;\n",
       "    }\n",
       "\n",
       "    .dataframe tbody tr th {\n",
       "        vertical-align: top;\n",
       "    }\n",
       "\n",
       "    .dataframe thead th {\n",
       "        text-align: right;\n",
       "    }\n",
       "</style>\n",
       "<table border=\"1\" class=\"dataframe\">\n",
       "  <thead>\n",
       "    <tr style=\"text-align: right;\">\n",
       "      <th></th>\n",
       "      <th>hypothesis</th>\n",
       "      <th>RICE</th>\n",
       "    </tr>\n",
       "  </thead>\n",
       "  <tbody>\n",
       "    <tr>\n",
       "      <th>7</th>\n",
       "      <td>Добавить форму подписки на все основные страницы, чтобы собрать базу клиентов для email-рассылок</td>\n",
       "      <td>112.0</td>\n",
       "    </tr>\n",
       "    <tr>\n",
       "      <th>2</th>\n",
       "      <td>Добавить блоки рекомендаций товаров на сайт интернет магазина, чтобы повысить конверсию и средний чек заказа</td>\n",
       "      <td>56.0</td>\n",
       "    </tr>\n",
       "    <tr>\n",
       "      <th>0</th>\n",
       "      <td>Добавить два новых канала привлечения трафика, что позволит привлекать на 30% больше пользователей</td>\n",
       "      <td>40.0</td>\n",
       "    </tr>\n",
       "    <tr>\n",
       "      <th>6</th>\n",
       "      <td>Показать на главной странице баннеры с актуальными акциями и распродажами, чтобы увеличить конверсию</td>\n",
       "      <td>40.0</td>\n",
       "    </tr>\n",
       "    <tr>\n",
       "      <th>8</th>\n",
       "      <td>Запустить акцию, дающую скидку на товар в день рождения</td>\n",
       "      <td>16.2</td>\n",
       "    </tr>\n",
       "    <tr>\n",
       "      <th>3</th>\n",
       "      <td>Изменить структура категорий, что увеличит конверсию, т.к. пользователи быстрее найдут нужный товар</td>\n",
       "      <td>9.0</td>\n",
       "    </tr>\n",
       "    <tr>\n",
       "      <th>1</th>\n",
       "      <td>Запустить собственную службу доставки, что сократит срок доставки заказов</td>\n",
       "      <td>4.0</td>\n",
       "    </tr>\n",
       "    <tr>\n",
       "      <th>5</th>\n",
       "      <td>Добавить страницу отзывов клиентов о магазине, что позволит увеличить количество заказов</td>\n",
       "      <td>4.0</td>\n",
       "    </tr>\n",
       "    <tr>\n",
       "      <th>4</th>\n",
       "      <td>Изменить цвет фона главной страницы, чтобы увеличить вовлеченность пользователей</td>\n",
       "      <td>3.0</td>\n",
       "    </tr>\n",
       "  </tbody>\n",
       "</table>\n",
       "</div>"
      ],
      "text/plain": [
       "                                                                                                     hypothesis  \\\n",
       "7              Добавить форму подписки на все основные страницы, чтобы собрать базу клиентов для email-рассылок   \n",
       "2  Добавить блоки рекомендаций товаров на сайт интернет магазина, чтобы повысить конверсию и средний чек заказа   \n",
       "0            Добавить два новых канала привлечения трафика, что позволит привлекать на 30% больше пользователей   \n",
       "6          Показать на главной странице баннеры с актуальными акциями и распродажами, чтобы увеличить конверсию   \n",
       "8                                                       Запустить акцию, дающую скидку на товар в день рождения   \n",
       "3           Изменить структура категорий, что увеличит конверсию, т.к. пользователи быстрее найдут нужный товар   \n",
       "1                                     Запустить собственную службу доставки, что сократит срок доставки заказов   \n",
       "5                      Добавить страницу отзывов клиентов о магазине, что позволит увеличить количество заказов   \n",
       "4                              Изменить цвет фона главной страницы, чтобы увеличить вовлеченность пользователей   \n",
       "\n",
       "    RICE  \n",
       "7  112.0  \n",
       "2   56.0  \n",
       "0   40.0  \n",
       "6   40.0  \n",
       "8   16.2  \n",
       "3    9.0  \n",
       "1    4.0  \n",
       "5    4.0  \n",
       "4    3.0  "
      ]
     },
     "metadata": {},
     "output_type": "display_data"
    }
   ],
   "source": [
    "#приоритизация гипотез на основе фреймворка RICE\n",
    "hypothesis['RICE'] = hypothesis['reach'] * hypothesis['impact'] * hypothesis['confidence'] / hypothesis['efforts']\n",
    "display(hypothesis[['hypothesis', 'RICE']].sort_values(by='RICE', ascending=False))"
   ]
  },
  {
   "cell_type": "markdown",
   "id": "3584f017",
   "metadata": {},
   "source": [
    "**При ипользовании фреймворка ICE приоритетным являются гипотезы под индексами 8,0,7, тогда как фреймворк RICE выделяет наиболее приоритетные гипотезы под индексами 7,2,0,6. С большим отрывом выделяется гипотеза \"Добавить форму подписки на все основные страницы, чтобы собрать базу клиентов для email-рассылок\" (под индексом 7), такое смещение произошло благодаря тому, что во фреймворке RICE учитывается параметр, который определяет количество пользователей, которых затронет изменение (для этой гипотезы параметр *Reach* максимальный).**"
   ]
  },
  {
   "cell_type": "markdown",
   "id": "c3a34333",
   "metadata": {},
   "source": [
    "## 2. Анализ A/B-теста"
   ]
  },
  {
   "cell_type": "markdown",
   "id": "4b23a95c",
   "metadata": {},
   "source": [
    "**Перед построением графиков для начала необходимо выявить пользователей, которые попали и в одну и во вторую группу и удалить их из таблицы, т.к. они будут искажать данные,ведь неизвестно какая группа и как повлияла на их решение.**"
   ]
  },
  {
   "cell_type": "code",
   "execution_count": 9,
   "id": "6c33b2e7",
   "metadata": {},
   "outputs": [
    {
     "name": "stdout",
     "output_type": "stream",
     "text": [
      "Количество пользователей входящих в обе группы: 58\n"
     ]
    }
   ],
   "source": [
    "# создаю список из пользователей, которые есть в обеих группах\n",
    "listAB = []\n",
    "checkA = orders[orders['group'] == 'A']\n",
    "checkB = orders[orders['group'] == 'B']\n",
    "for user1 in checkA['visitor_id']:\n",
    "    for user2 in checkB['visitor_id']:\n",
    "        if user1 == user2:\n",
    "            if user1 not in listAB:\n",
    "                listAB.append(user1)\n",
    "print('Количество пользователей входящих в обе группы:', len(listAB))"
   ]
  },
  {
   "cell_type": "code",
   "execution_count": 10,
   "id": "df141ddc",
   "metadata": {
    "scrolled": true
   },
   "outputs": [
    {
     "name": "stdout",
     "output_type": "stream",
     "text": [
      "<class 'pandas.core.frame.DataFrame'>\n",
      "RangeIndex: 1016 entries, 0 to 1015\n",
      "Data columns (total 6 columns):\n",
      " #   Column          Non-Null Count  Dtype         \n",
      "---  ------          --------------  -----         \n",
      " 0   index           1016 non-null   int64         \n",
      " 1   transaction_id  1016 non-null   int64         \n",
      " 2   visitor_id      1016 non-null   int64         \n",
      " 3   date            1016 non-null   datetime64[ns]\n",
      " 4   revenue         1016 non-null   int64         \n",
      " 5   group           1016 non-null   object        \n",
      "dtypes: datetime64[ns](1), int64(4), object(1)\n",
      "memory usage: 47.8+ KB\n"
     ]
    }
   ],
   "source": [
    "# удаляю пользователей из таблицы orders, которые входят в обе группе\n",
    "# сбрасываю индексу и смотрю изменения\n",
    "orders = orders.query('visitor_id not in @listAB')\n",
    "orders.reset_index().info()"
   ]
  },
  {
   "cell_type": "markdown",
   "id": "e6e4bf2e",
   "metadata": {},
   "source": [
    "**После удаления пользователей входящих в обе группы тестирования, было удалено 183 строки из таблицы orders.**"
   ]
  },
  {
   "cell_type": "markdown",
   "id": "e90c88e5",
   "metadata": {},
   "source": [
    "**1. График кумулятивной выручки по группам**"
   ]
  },
  {
   "cell_type": "code",
   "execution_count": 11,
   "id": "a5709830",
   "metadata": {},
   "outputs": [],
   "source": [
    "# создаем массив уникальных пар значений дат и групп теста\n",
    "datesGroups = orders[['date','group']].drop_duplicates()\n",
    "\n",
    "# получаем агрегированные кумулятивные по дням данные о заказах\n",
    "ordersAggregated = (\n",
    "    datesGroups.apply(\n",
    "        lambda x: orders[np.logical_and(orders['date'] <= x['date'],\n",
    "                                        orders['group'] == x['group'])]\n",
    "        .agg({'date' : 'max', 'group' : 'max', 'transaction_id' : 'nunique', 'visitor_id' : 'nunique', 'revenue' : 'sum'}),\n",
    "        axis=1)\n",
    "    .sort_values(by=['date','group'])\n",
    ")\n",
    "\n",
    "# получаем агрегированные кумулятивные по дням данные о посетителях интернет-магазина\n",
    "visitorsAggregated = (\n",
    "    datesGroups.apply(\n",
    "        lambda x: visitors[np.logical_and(visitors['date'] <= x['date'], \n",
    "                                          visitors['group'] == x['group'])]\n",
    "        .agg({'date' : 'max', 'group' : 'max', 'visitors' : 'sum'}), axis=1)\n",
    "    .sort_values(by=['date','group'])\n",
    ")\n",
    "\n",
    "# объединяем кумулятивные данные в одной таблице и присваиваем ее столбцам понятные названия\n",
    "cumulativeData = ordersAggregated.merge(visitorsAggregated, left_on=['date', 'group'], right_on=['date', 'group'])\n",
    "cumulativeData.columns = ['date', 'group', 'orders', 'buyers', 'revenue', 'visitors']"
   ]
  },
  {
   "cell_type": "code",
   "execution_count": 12,
   "id": "d45313b0",
   "metadata": {
    "scrolled": true
   },
   "outputs": [
    {
     "data": {
      "image/png": "[encoded data removed]",
      "text/plain": [
       "<Figure size 432x288 with 1 Axes>"
      ]
     },
     "metadata": {
      "needs_background": "light"
     },
     "output_type": "display_data"
    }
   ],
   "source": [
    "# датафрейм с кумулятивным количеством заказов и кумулятивной выручкой по дням в группе А\n",
    "cumulativeRevenueA = cumulativeData[cumulativeData['group']=='A'][['date','revenue', 'orders']]\n",
    "\n",
    "# датафрейм с кумулятивным количеством заказов и кумулятивной выручкой по дням в группе B\n",
    "cumulativeRevenueB = cumulativeData[cumulativeData['group']=='B'][['date','revenue', 'orders']]\n",
    "\n",
    "# Строим график выручки группы А\n",
    "plt.plot(cumulativeRevenueA['date'], cumulativeRevenueA['revenue'], label='группа A')\n",
    "\n",
    "# Строим график выручки группы B\n",
    "plt.plot(cumulativeRevenueB['date'], cumulativeRevenueB['revenue'], label='группа B')\n",
    "plt.title('График выручки в группах А и В')\n",
    "plt.xlabel('Дата')\n",
    "plt.ylabel('Кумулятивная средняя выручка')\n",
    "plt.xticks(rotation=90)\n",
    "plt.legend();"
   ]
  },
  {
   "cell_type": "markdown",
   "id": "c1034263",
   "metadata": {},
   "source": [
    "**Выручка достаточно плавно увеличивается,если не считать всплесков. На графике группы B заметен очень резкий скачок, который вызван либо очень дорогим заказом, либо увеличением количества заказов в выборке в данном промежутке.**"
   ]
  },
  {
   "cell_type": "markdown",
   "id": "8c0cf2bf",
   "metadata": {},
   "source": [
    "**2. График кумулятивного среднего чека по группам**"
   ]
  },
  {
   "cell_type": "code",
   "execution_count": 13,
   "id": "6ce172ef",
   "metadata": {
    "scrolled": true
   },
   "outputs": [
    {
     "data": {
      "image/png": "[encoded data removed]",
      "text/plain": [
       "<Figure size 432x288 with 1 Axes>"
      ]
     },
     "metadata": {
      "needs_background": "light"
     },
     "output_type": "display_data"
    }
   ],
   "source": [
    "plt.plot(cumulativeRevenueA['date'], cumulativeRevenueA['revenue']/cumulativeRevenueA['orders'], label='группа A')\n",
    "plt.plot(cumulativeRevenueB['date'], cumulativeRevenueB['revenue']/cumulativeRevenueB['orders'], label='группа B')\n",
    "plt.title('График среднего чека по группам А и В')\n",
    "plt.xlabel('Дата')\n",
    "plt.ylabel('Кумулятивный средний чек')\n",
    "plt.xticks(rotation=90)\n",
    "plt.legend();"
   ]
  },
  {
   "cell_type": "markdown",
   "id": "58f96bb1",
   "metadata": {},
   "source": [
    "**На графике заметны сильные колебания среднего чека вначале теста, особенно заметен резкий рост среднего чека в группе В, который вызван либо дорогим заказом, либо большим количеством заказов в этом промежутке. К концу наблюдаемого периода сумма среднего чека в группе А выравнивается, в группе В сумма среднего чека после резкого роста находится в падении.**"
   ]
  },
  {
   "cell_type": "markdown",
   "id": "ad031a7b",
   "metadata": {},
   "source": [
    "**3. График относительного изменения кумулятивного среднего чека группы B к группе A**"
   ]
  },
  {
   "cell_type": "code",
   "execution_count": 14,
   "id": "0469706b",
   "metadata": {
    "scrolled": false
   },
   "outputs": [
    {
     "data": {
      "image/png": "[encoded data removed]",
      "text/plain": [
       "<Figure size 432x288 with 1 Axes>"
      ]
     },
     "metadata": {
      "needs_background": "light"
     },
     "output_type": "display_data"
    }
   ],
   "source": [
    "# собираем данные в одном датафрейме\n",
    "mergedCumulativeRevenue = cumulativeRevenueA.merge(cumulativeRevenueB, \n",
    "                                                   left_on='date', \n",
    "                                                   right_on='date', \n",
    "                                                   how='left',\n",
    "                                                   suffixes=['A', 'B'])\n",
    "\n",
    "# cтроим отношение средних чеков\n",
    "plt.plot(mergedCumulativeRevenue['date'], \n",
    "         (mergedCumulativeRevenue['revenueB']/mergedCumulativeRevenue['ordersB'])\n",
    "         /(mergedCumulativeRevenue['revenueA']/mergedCumulativeRevenue['ordersA'])-1)\n",
    "\n",
    "# добавляем ось X\n",
    "plt.xticks(rotation=90)\n",
    "plt.title('График относительного изменения кумулятивного среднего чека группы B к группе A')\n",
    "plt.axhline(y=0, color='black', linestyle='--');"
   ]
  },
  {
   "cell_type": "markdown",
   "id": "d1e8d291",
   "metadata": {},
   "source": [
    "**Выбросы, крупные заказы делают волнообразный график, так же заметен резкий скачок в районе середины теста, а после спад по отношению к среднему чеку группы А.**"
   ]
  },
  {
   "cell_type": "markdown",
   "id": "d81a9dfd",
   "metadata": {},
   "source": [
    "**4.График кумулятивного среднего количества заказов по группам**"
   ]
  },
  {
   "cell_type": "code",
   "execution_count": 15,
   "id": "a42ea524",
   "metadata": {
    "scrolled": false
   },
   "outputs": [
    {
     "data": {
      "image/png": "[encoded data removed]",
      "text/plain": [
       "<Figure size 432x288 with 1 Axes>"
      ]
     },
     "metadata": {
      "needs_background": "light"
     },
     "output_type": "display_data"
    }
   ],
   "source": [
    "# Строим график кумулятивного количества заказов группы А\n",
    "plt.plot(cumulativeRevenueA['date'], cumulativeRevenueA['orders'], label='группа A')\n",
    "\n",
    "# Строим график кумулятивного количества заказов группы B\n",
    "plt.plot(cumulativeRevenueB['date'], cumulativeRevenueB['orders'], label='группа B')\n",
    "plt.title('График среднего количества заказов в группах А и В')\n",
    "plt.xlabel('Дата')\n",
    "plt.ylabel('Среднее количество заказов')\n",
    "plt.xticks(rotation=90)\n",
    "plt.legend();"
   ]
  },
  {
   "cell_type": "markdown",
   "id": "84a21747",
   "metadata": {},
   "source": [
    "**Количество заказов в группах А и В раномерно растет. Различие по количеству заказов в группах минимально.**"
   ]
  },
  {
   "cell_type": "markdown",
   "id": "4127cf02",
   "metadata": {},
   "source": [
    "**5.График относительного изменения кумулятивного среднего количества заказов группы B к группе A**"
   ]
  },
  {
   "cell_type": "code",
   "execution_count": 16,
   "id": "22629790",
   "metadata": {
    "scrolled": false
   },
   "outputs": [
    {
     "data": {
      "image/png": "[encoded data removed]",
      "text/plain": [
       "<Figure size 432x288 with 1 Axes>"
      ]
     },
     "metadata": {
      "needs_background": "light"
     },
     "output_type": "display_data"
    }
   ],
   "source": [
    "mergedCumulativeOrders = cumulativeRevenueA.merge(cumulativeRevenueB,\n",
    "                                                  left_on='date',\n",
    "                                                  right_on='date',\n",
    "                                                  how='left',\n",
    "                                                  suffixes=['A', 'B'])\n",
    "\n",
    "plt.plot(mergedCumulativeOrders['date'],\n",
    "         mergedCumulativeOrders['ordersB']/mergedCumulativeOrders['ordersA']-1,\n",
    "         label=\"Относительный прирост количества заказов группы B относительно группы A\")\n",
    "plt.title('График относительного прироста количества заказов группы B относительно группы A')\n",
    "plt.xticks(rotation=90)\n",
    "plt.axhline(y=0, color='black', linestyle='--');"
   ]
  },
  {
   "cell_type": "markdown",
   "id": "a6168bf4",
   "metadata": {},
   "source": [
    "**После начальных колебаний и резкого скачка числа заказов вначале, количество заказов в группе В относительно стабилизировалось по отношению к группе А. Всплески и колебания скорее всего вызваны аномалиями, есть небольшая тенденция на спад.**"
   ]
  },
  {
   "cell_type": "markdown",
   "id": "7fa75c05",
   "metadata": {},
   "source": [
    "**6. Точечный график количества заказов по пользователям.**"
   ]
  },
  {
   "cell_type": "code",
   "execution_count": 17,
   "id": "c4ec7d1f",
   "metadata": {
    "scrolled": true
   },
   "outputs": [
    {
     "data": {
      "text/html": [
       "<div>\n",
       "<style scoped>\n",
       "    .dataframe tbody tr th:only-of-type {\n",
       "        vertical-align: middle;\n",
       "    }\n",
       "\n",
       "    .dataframe tbody tr th {\n",
       "        vertical-align: top;\n",
       "    }\n",
       "\n",
       "    .dataframe thead th {\n",
       "        text-align: right;\n",
       "    }\n",
       "</style>\n",
       "<table border=\"1\" class=\"dataframe\">\n",
       "  <thead>\n",
       "    <tr style=\"text-align: right;\">\n",
       "      <th></th>\n",
       "      <th>user_id</th>\n",
       "      <th>orders</th>\n",
       "    </tr>\n",
       "  </thead>\n",
       "  <tbody>\n",
       "    <tr>\n",
       "      <th>908</th>\n",
       "      <td>3967698036</td>\n",
       "      <td>3</td>\n",
       "    </tr>\n",
       "    <tr>\n",
       "      <th>55</th>\n",
       "      <td>249864742</td>\n",
       "      <td>3</td>\n",
       "    </tr>\n",
       "    <tr>\n",
       "      <th>478</th>\n",
       "      <td>2108163459</td>\n",
       "      <td>3</td>\n",
       "    </tr>\n",
       "    <tr>\n",
       "      <th>687</th>\n",
       "      <td>2988190573</td>\n",
       "      <td>3</td>\n",
       "    </tr>\n",
       "    <tr>\n",
       "      <th>890</th>\n",
       "      <td>3908431265</td>\n",
       "      <td>3</td>\n",
       "    </tr>\n",
       "    <tr>\n",
       "      <th>138</th>\n",
       "      <td>611059232</td>\n",
       "      <td>3</td>\n",
       "    </tr>\n",
       "    <tr>\n",
       "      <th>632</th>\n",
       "      <td>2742574263</td>\n",
       "      <td>3</td>\n",
       "    </tr>\n",
       "    <tr>\n",
       "      <th>157</th>\n",
       "      <td>678354126</td>\n",
       "      <td>2</td>\n",
       "    </tr>\n",
       "    <tr>\n",
       "      <th>323</th>\n",
       "      <td>1404560065</td>\n",
       "      <td>2</td>\n",
       "    </tr>\n",
       "    <tr>\n",
       "      <th>452</th>\n",
       "      <td>1985475298</td>\n",
       "      <td>2</td>\n",
       "    </tr>\n",
       "  </tbody>\n",
       "</table>\n",
       "</div>"
      ],
      "text/plain": [
       "        user_id  orders\n",
       "908  3967698036       3\n",
       "55    249864742       3\n",
       "478  2108163459       3\n",
       "687  2988190573       3\n",
       "890  3908431265       3\n",
       "138   611059232       3\n",
       "632  2742574263       3\n",
       "157   678354126       2\n",
       "323  1404560065       2\n",
       "452  1985475298       2"
      ]
     },
     "metadata": {},
     "output_type": "display_data"
    }
   ],
   "source": [
    "# группирую пользователей по количеству сделанных заказов\n",
    "countOrdersByUsers = orders.groupby('visitor_id', as_index=False).agg({'transaction_id' : 'nunique'})\n",
    "countOrdersByUsers.columns=['user_id', 'orders']\n",
    "display(countOrdersByUsers.sort_values(by='orders', ascending=False).head(10))"
   ]
  },
  {
   "cell_type": "code",
   "execution_count": 18,
   "id": "15d3f972",
   "metadata": {
    "scrolled": true
   },
   "outputs": [
    {
     "data": {
      "image/png": "[encoded data removed]",
      "text/plain": [
       "<Figure size 432x288 with 1 Axes>"
      ]
     },
     "metadata": {
      "needs_background": "light"
     },
     "output_type": "display_data"
    }
   ],
   "source": [
    "# построю гистограмму распределения количества заказов по пользователям\n",
    "plt.title('Гистограмма распределения количества заказов')\n",
    "plt.xlabel('Количество заказов')\n",
    "plt.ylabel('Количество пользователей')\n",
    "plt.hist(countOrdersByUsers['orders']);"
   ]
  },
  {
   "cell_type": "markdown",
   "id": "6275bfdb",
   "metadata": {},
   "source": [
    "**Большинство пользователей сделали не больше 2х заказов.**"
   ]
  },
  {
   "cell_type": "code",
   "execution_count": 19,
   "id": "9f1f4e7c",
   "metadata": {
    "scrolled": false
   },
   "outputs": [
    {
     "data": {
      "image/png": "[encoded data removed]",
      "text/plain": [
       "<Figure size 432x288 with 1 Axes>"
      ]
     },
     "metadata": {
      "needs_background": "light"
     },
     "output_type": "display_data"
    }
   ],
   "source": [
    "# строю точечный график количества заказов по пользователям\n",
    "x_values = pd.Series(range(0,len(countOrdersByUsers)))\n",
    "plt.title('Диаграмма количества заказов на одного пользователя')\n",
    "plt.scatter(x_values, countOrdersByUsers['orders']);"
   ]
  },
  {
   "cell_type": "markdown",
   "id": "6b935a3b",
   "metadata": {},
   "source": [
    "**Заметны пользователи с аномальным количеством заказов, для большинства пользователей характерно не больше 2х заказов.**"
   ]
  },
  {
   "cell_type": "markdown",
   "id": "f928a715",
   "metadata": {},
   "source": [
    "**7. 95-й и 99-й перцентили количества заказов на пользователя**"
   ]
  },
  {
   "cell_type": "code",
   "execution_count": 20,
   "id": "1dac3bee",
   "metadata": {
    "scrolled": false
   },
   "outputs": [
    {
     "name": "stdout",
     "output_type": "stream",
     "text": [
      "95-й и 99-й перцентили количества заказов на пользователя: [1. 2.]\n"
     ]
    }
   ],
   "source": [
    "print('95-й и 99-й перцентили количества заказов на пользователя:', np.percentile(countOrdersByUsers['orders'], [95, 99]))"
   ]
  },
  {
   "cell_type": "markdown",
   "id": "349a9160",
   "metadata": {},
   "source": [
    "**Согласно данным не более 5% пользователей с заказами больше одного и не более 1% пользователей с заказами больше 2х. Пользователи с заказами больше 2х можно считать аномальными.**"
   ]
  },
  {
   "cell_type": "markdown",
   "id": "68a054a9",
   "metadata": {},
   "source": [
    "**8.Точечный график стоимостей заказов**"
   ]
  },
  {
   "cell_type": "code",
   "execution_count": 21,
   "id": "55a14cd3",
   "metadata": {
    "scrolled": false
   },
   "outputs": [
    {
     "data": {
      "image/png": "[encoded data removed]",
      "text/plain": [
       "<Figure size 432x288 with 1 Axes>"
      ]
     },
     "metadata": {
      "needs_background": "light"
     },
     "output_type": "display_data"
    }
   ],
   "source": [
    "x_values = pd.Series(range(0,len(orders['revenue'])))\n",
    "plt.title('Диаграмма стоимости заказов на одного пользователя')\n",
    "plt.scatter(x_values, orders['revenue']);"
   ]
  },
  {
   "cell_type": "markdown",
   "id": "18e538d4",
   "metadata": {},
   "source": [
    "**На этом графике заметно одно сильно выбивающееся значение очень дорогого заказа, который и привел к резкого всплеску который был виден при оценке графиков кумулятивного среднего чека и выручки в группах. Чтобы оценить остальные выбросы сделаю срез без этой аномалии.**"
   ]
  },
  {
   "cell_type": "code",
   "execution_count": 22,
   "id": "f096eb48",
   "metadata": {
    "scrolled": true
   },
   "outputs": [
    {
     "data": {
      "image/png": "[encoded data removed]",
      "text/plain": [
       "<Figure size 432x288 with 1 Axes>"
      ]
     },
     "metadata": {
      "needs_background": "light"
     },
     "output_type": "display_data"
    }
   ],
   "source": [
    "revenueNoAnomal=orders.query('revenue <200000')\n",
    "\n",
    "x_values = pd.Series(range(0,len(revenueNoAnomal['revenue'])))\n",
    "plt.title('Диаграмма стоимости заказов на одного пользователя')\n",
    "plt.scatter(x_values, revenueNoAnomal['revenue']);"
   ]
  },
  {
   "cell_type": "markdown",
   "id": "9ae67a0b",
   "metadata": {},
   "source": [
    "**Без аномального значения стоимость большинства заказов пользователей находится в пределах до 40000. Поэтому границу для определения пользователей с аномальной стоимостью заказов можно провести в границах от 20000 до 40000. Точнее можно будет сказать по перцентилям.**"
   ]
  },
  {
   "cell_type": "markdown",
   "id": "e5302891",
   "metadata": {},
   "source": [
    "**9. 95-й и 99-й перцентили стоимости заказов**"
   ]
  },
  {
   "cell_type": "code",
   "execution_count": 23,
   "id": "71de3b15",
   "metadata": {
    "scrolled": true
   },
   "outputs": [
    {
     "name": "stdout",
     "output_type": "stream",
     "text": [
      "95-й и 99-й перцентили стоимости заказов: [26785. 53904.]\n"
     ]
    }
   ],
   "source": [
    "print('95-й и 99-й перцентили стоимости заказов:', np.percentile(orders['revenue'], [95, 99]))"
   ]
  },
  {
   "cell_type": "markdown",
   "id": "da5e0712",
   "metadata": {},
   "source": [
    "**Исходя из данных,мы можем сказать, что есть не больше 5% пользователей со стоимостью заказов больше 26785 и не больше 1% пользователей со стоимостью заказов больше 53904. Пользователей со стоимостью заказа больше  26785 будут аномальными.**"
   ]
  },
  {
   "cell_type": "markdown",
   "id": "8d6c7b90",
   "metadata": {},
   "source": [
    "**10. Статистическая значимость различий в среднем количестве заказов между группами по «сырым» данным**"
   ]
  },
  {
   "cell_type": "markdown",
   "id": "fb85069d",
   "metadata": {},
   "source": [
    "В предыдущих шагах оценил данные по графикам и пришел к выводу что в данных есть значительные выбросы как в количестве заказов на одного пользователя, так и в стоимости заказа, что привело к значительным всплескам и сильно исказили результаты теста. После преварительной оценки были определены границы аномалий для количества и стоимости заказов на пользователя.\n",
    "\n",
    "Посчитаю статистическую значимость различий в среднем количестве заказов между группами по «сырым» данным. Для начала сформулирую нулевую и альтернативную гипотезы.\n",
    "\n",
    "- Нулевая гипотеза: различий в среднем количестве заказов между группами нет.\n",
    "- Альтернативная гипотеза: различия в среднем количестве заказов есть.\n",
    "\n",
    "Для этих и последующих вычислений зададим уровень статистической значимости alpha = 0.05"
   ]
  },
  {
   "cell_type": "code",
   "execution_count": 24,
   "id": "eb64c832",
   "metadata": {
    "scrolled": false
   },
   "outputs": [],
   "source": [
    "# подготавливаю данные для анализа\n",
    "visitorsADaily = visitors[visitors['group'] == 'A'][['date', 'visitors']]\n",
    "visitorsADaily.columns = ['date', 'visitorsPerDateA']\n",
    "\n",
    "visitorsACummulative = visitorsADaily.apply(\n",
    "    lambda x: visitorsADaily[visitorsADaily['date'] <= x['date']].agg(\n",
    "        {'date': 'max', 'visitorsPerDateA': 'sum'}\n",
    "    ),\n",
    "    axis=1,\n",
    ")\n",
    "visitorsACummulative.columns = ['date', 'visitorsCummulativeA']\n",
    "\n",
    "visitorsBDaily = visitors[visitors['group'] == 'B'][['date', 'visitors']]\n",
    "visitorsBDaily.columns = ['date', 'visitorsPerDateB']\n",
    "\n",
    "visitorsBCummulative = visitorsBDaily.apply(\n",
    "    lambda x: visitorsBDaily[visitorsBDaily['date'] <= x['date']].agg(\n",
    "        {'date': 'max', 'visitorsPerDateB': 'sum'}\n",
    "    ),\n",
    "    axis=1,\n",
    ")\n",
    "visitorsBCummulative.columns = ['date', 'visitorsCummulativeB']\n",
    "\n",
    "ordersADaily = (\n",
    "    orders[orders['group'] == 'A'][['date', 'transaction_id', 'visitor_id', 'revenue']]\n",
    "    .groupby('date', as_index=False)\n",
    "    .agg({'transaction_id': pd.Series.nunique, 'revenue': 'sum'})\n",
    ")\n",
    "ordersADaily.columns = ['date', 'ordersPerDateA', 'revenuePerDateA']\n",
    "\n",
    "ordersACummulative = ordersADaily.apply(\n",
    "    lambda x: ordersADaily[ordersADaily['date'] <= x['date']].agg(\n",
    "        {'date': 'max', 'ordersPerDateA': 'sum', 'revenuePerDateA': 'sum'}\n",
    "    ),\n",
    "    axis=1,\n",
    ").sort_values(by=['date'])\n",
    "ordersACummulative.columns = [\n",
    "    'date',\n",
    "    'ordersCummulativeA',\n",
    "    'revenueCummulativeA',\n",
    "]\n",
    "\n",
    "ordersBDaily = (\n",
    "    orders[orders['group'] == 'B'][['date', 'transaction_id', 'visitor_id', 'revenue']]\n",
    "    .groupby('date', as_index=False)\n",
    "    .agg({'transaction_id': pd.Series.nunique, 'revenue': 'sum'})\n",
    ")\n",
    "ordersBDaily.columns = ['date', 'ordersPerDateB', 'revenuePerDateB']\n",
    "\n",
    "ordersBCummulative = ordersBDaily.apply(\n",
    "    lambda x: ordersBDaily[ordersBDaily['date'] <= x['date']].agg(\n",
    "        {'date': 'max', 'ordersPerDateB': 'sum', 'revenuePerDateB': 'sum'}\n",
    "    ),\n",
    "    axis=1,\n",
    ").sort_values(by=['date'])\n",
    "ordersBCummulative.columns = [\n",
    "    'date',\n",
    "    'ordersCummulativeB',\n",
    "    'revenueCummulativeB',\n",
    "]\n",
    "\n",
    "data = (\n",
    "    ordersADaily.merge(\n",
    "        ordersBDaily, left_on='date', right_on='date', how='left'\n",
    "    )\n",
    "    .merge(ordersACummulative, left_on='date', right_on='date', how='left')\n",
    "    .merge(ordersBCummulative, left_on='date', right_on='date', how='left')\n",
    "    .merge(visitorsADaily, left_on='date', right_on='date', how='left')\n",
    "    .merge(visitorsBDaily, left_on='date', right_on='date', how='left')\n",
    "    .merge(visitorsACummulative, left_on='date', right_on='date', how='left')\n",
    "    .merge(visitorsBCummulative, left_on='date', right_on='date', how='left')\n",
    ")"
   ]
  },
  {
   "cell_type": "markdown",
   "id": "503fcb84",
   "metadata": {},
   "source": [
    "Получаем таблицу с такими столбцами:\n",
    "- `date` — дата;\n",
    "- `ordersPerDateA` — количество заказов в выбранную дату в группе A;\n",
    "- `revenuePerDateA` — суммарная выручка в выбранную дату в группе A;\n",
    "- `ordersPerDateB` — количество заказов в выбранную дату в группе B;\n",
    "- `revenuePerDateB` — суммарная выручка в выбранную дату в группе B;\n",
    "- `ordersCummulativeA` — суммарное число заказов до выбранной даты включительно в группе A;\n",
    "- `revenueCummulativeA` — суммарная выручка до выбранной даты включительно в группе A;\n",
    "- `ordersCummulativeB` — суммарное количество заказов до выбранной даты включительно в группе B;\n",
    "- `revenueCummulativeB` — суммарная выручка до выбранной даты включительно в группе B;\n",
    "- `visitorsPerDateA` — количество пользователей в выбранную дату в группе A;\n",
    "- `visitorsPerDateB` — количество пользователей в выбранную дату в группе B;\n",
    "- `visitorsCummulativeA` — количество пользователей до выбранной даты включительно в группе A;\n",
    "- `visitorsCummulativeB` — количество пользователей до выбранной даты включительно в группе B."
   ]
  },
  {
   "cell_type": "code",
   "execution_count": 25,
   "id": "42ebecfb",
   "metadata": {},
   "outputs": [
    {
     "name": "stdout",
     "output_type": "stream",
     "text": [
      "p-value: 0.011\n",
      "Относительное различие в среднем количестве заказов между группами: 0.160\n"
     ]
    }
   ],
   "source": [
    "# перехожу непосредственно к самим вычислениям различий в среднем количестве заказов между группами по \"сырым\" данным\n",
    "ordersByUsersA = (\n",
    "    orders[orders['group'] == 'A']\n",
    "    .groupby('visitor_id', as_index=False)\n",
    "    .agg({'transaction_id': pd.Series.nunique})\n",
    ")\n",
    "ordersByUsersA.columns = ['userId', 'orders']\n",
    "\n",
    "ordersByUsersB = (\n",
    "    orders[orders['group'] == 'B']\n",
    "    .groupby('visitor_id', as_index=False)\n",
    "    .agg({'transaction_id': pd.Series.nunique})\n",
    ")\n",
    "ordersByUsersB.columns = ['userId', 'orders']\n",
    "\n",
    "sampleA = pd.concat(\n",
    "    [\n",
    "        ordersByUsersA['orders'],\n",
    "        pd.Series(\n",
    "            0,\n",
    "            index=np.arange(\n",
    "                data['visitorsPerDateA'].sum() - len(ordersByUsersA['orders'])\n",
    "            ),\n",
    "            name='orders',\n",
    "        ),\n",
    "    ],\n",
    "    axis=0,\n",
    ")\n",
    "\n",
    "sampleB = pd.concat(\n",
    "    [\n",
    "        ordersByUsersB['orders'],\n",
    "        pd.Series(\n",
    "            0,\n",
    "            index=np.arange(\n",
    "                data['visitorsPerDateB'].sum() - len(ordersByUsersB['orders'])\n",
    "            ),\n",
    "            name='orders',\n",
    "        ),\n",
    "    ],\n",
    "    axis=0,\n",
    ")\n",
    "\n",
    "print('p-value:', \"{0:.3f}\".format(st.mannwhitneyu(sampleA, sampleB)[1]))\n",
    "\n",
    "print('Относительное различие в среднем количестве заказов между группами:',\"{0:.3f}\"\n",
    "      .format(sampleB.mean() / sampleA.mean() - 1))"
   ]
  },
  {
   "cell_type": "markdown",
   "id": "52c4e1f1",
   "metadata": {},
   "source": [
    "**P-value ниже уровня статистической значисмости, значит нулевую гипотезу мы отвергаем, соответственно различия в среднем количестве заказов есть. При этом среднее количество заказов в группе В на 16% больше, чем в группе А.**"
   ]
  },
  {
   "cell_type": "markdown",
   "id": "e0a4ebac",
   "metadata": {},
   "source": [
    "**11. Статистическая значимость различий в среднем чеке заказа между группами по «сырым» данным**\n",
    " - Нулевая гипотеза: различий в среднем чеке заказа между группами нет.\n",
    " - Альтернативная гипотеза: различия в среднем  чеке заказа есть."
   ]
  },
  {
   "cell_type": "code",
   "execution_count": 26,
   "id": "fe7509f5",
   "metadata": {},
   "outputs": [
    {
     "name": "stdout",
     "output_type": "stream",
     "text": [
      "p-value: 0.829\n",
      "Относительное различие в среднем чеке между группами: 0.287\n"
     ]
    }
   ],
   "source": [
    "# делаю расчет статистической значимости различий в среднем чеке заказа между группами\n",
    "print('p-value:', '{0:.3f}'.format(st.mannwhitneyu(orders[orders['group']=='A']['revenue'],\n",
    "                                                   orders[orders['group']=='B']['revenue'])[1]))\n",
    "print('Относительное различие в среднем чеке между группами:','{0:.3f}'\n",
    "      .format(orders[orders['group']=='B']['revenue']\n",
    "              .mean()/orders[orders['group']=='A']['revenue']\n",
    "              .mean()-1))"
   ]
  },
  {
   "cell_type": "markdown",
   "id": "05b6a9cd",
   "metadata": {},
   "source": [
    "**P-value больше уровня статистической значимости, значит различий в среднем чеке заказа между группами нет. Нулевую гипотезу не отвергаем.**"
   ]
  },
  {
   "cell_type": "markdown",
   "id": "95813373",
   "metadata": {},
   "source": [
    "**12. Статистическая значимость различий в среднем количестве заказов между группами по «очищенным» данным.** "
   ]
  },
  {
   "cell_type": "markdown",
   "id": "99ef389d",
   "metadata": {},
   "source": [
    "Для того, чтобы посчитать статистическую значимость различий в среднем количестве заказов между группами по «очищенным» данным, необходимо сначала выделить пользователей с аномальным количеством заказов и с аномальной стоимостью заказов. По рассмотренным выше данным выделил аномальных пользователей,у которых число заказов больше 2х и со стоимостью заказов больше 26785.\n",
    "\n",
    "Нулевая и альтернативная гипотеза остаются теми же. Уровень статистической значимости тоже не изменяется alpha = 0.05."
   ]
  },
  {
   "cell_type": "code",
   "execution_count": 27,
   "id": "81776f86",
   "metadata": {},
   "outputs": [],
   "source": [
    "# записываю переменные границами аномальных зон для пользователей\n",
    "countOrdersAnomalZone = np.percentile(countOrdersByUsers['orders'], [99])\n",
    "revenueAnomalZone = np.percentile(orders['revenue'], [95])"
   ]
  },
  {
   "cell_type": "code",
   "execution_count": 28,
   "id": "e9795eb2",
   "metadata": {},
   "outputs": [
    {
     "name": "stdout",
     "output_type": "stream",
     "text": [
      "Количество аномальных пользователей: 58\n"
     ]
    }
   ],
   "source": [
    "# выделяю аномальных пользователей\n",
    "usersWithManyOrders = pd.concat(\n",
    "    [\n",
    "        ordersByUsersA[ordersByUsersA['orders'] > countOrdersAnomalZone[0]]['userId'],\n",
    "        ordersByUsersB[ordersByUsersB['orders'] > countOrdersAnomalZone[0]]['userId'],\n",
    "    ],\n",
    "    axis=0,\n",
    ")\n",
    "usersWithExpensiveOrders = orders[orders['revenue'] > revenueAnomalZone[0]]['visitor_id']\n",
    "abnormalUsers = (\n",
    "    pd.concat([usersWithManyOrders, usersWithExpensiveOrders], axis=0)\n",
    "    .drop_duplicates()\n",
    "    .sort_values()\n",
    ")\n",
    "print('Количество аномальных пользователей:', abnormalUsers.shape[0])"
   ]
  },
  {
   "cell_type": "code",
   "execution_count": 29,
   "id": "5bccb3cd",
   "metadata": {},
   "outputs": [
    {
     "name": "stdout",
     "output_type": "stream",
     "text": [
      "p-value: 0.012\n",
      "Относительное различие в среднем количестве заказов между группами: 0.182\n"
     ]
    }
   ],
   "source": [
    "# делаю расчеты различий в среднем количестве заказов между группами по данным очищенным от аномалий\n",
    "sampleAFiltered = pd.concat(\n",
    "    [\n",
    "        ordersByUsersA[\n",
    "            np.logical_not(ordersByUsersA['userId'].isin(abnormalUsers))\n",
    "        ]['orders'],\n",
    "        pd.Series(\n",
    "            0,\n",
    "            index=np.arange(\n",
    "                data['visitorsPerDateA'].sum() - len(ordersByUsersA['orders'])\n",
    "            ),\n",
    "            name='orders',\n",
    "        ),\n",
    "    ],\n",
    "    axis=0,\n",
    ")\n",
    "\n",
    "sampleBFiltered = pd.concat(\n",
    "    [\n",
    "        ordersByUsersB[\n",
    "            np.logical_not(ordersByUsersB['userId'].isin(abnormalUsers))\n",
    "        ]['orders'],\n",
    "        pd.Series(\n",
    "            0,\n",
    "            index=np.arange(\n",
    "                data['visitorsPerDateB'].sum() - len(ordersByUsersB['orders'])\n",
    "            ),\n",
    "            name='orders',\n",
    "        ),\n",
    "    ],\n",
    "    axis=0,\n",
    ")\n",
    "print('p-value:','{0:.3f}'.format(st.mannwhitneyu(sampleAFiltered, sampleBFiltered)[1]))\n",
    "print('Относительное различие в среднем количестве заказов между группами:','{0:.3f}'\n",
    "      .format(sampleBFiltered.mean()/sampleAFiltered.mean()-1))"
   ]
  },
  {
   "cell_type": "markdown",
   "id": "a191ddc8",
   "metadata": {},
   "source": [
    "**P-value с очищенными данными почти не изменилось, следовательно нулевую гипотезу так же отвергаем, есть различие в среднем количестве заказов между группами. После очистки данных относительное различие в среднем количестве заказов еще увеличилось приблизительно на 2%.**"
   ]
  },
  {
   "cell_type": "markdown",
   "id": "18026b90",
   "metadata": {},
   "source": [
    "**13. Статистическая значимость различий в среднем чеке заказа между группами по «очищенным» данным**"
   ]
  },
  {
   "cell_type": "code",
   "execution_count": 30,
   "id": "31fcf339",
   "metadata": {},
   "outputs": [
    {
     "name": "stdout",
     "output_type": "stream",
     "text": [
      "p-value: 0.646\n",
      "Относительное различие в среднем чеке между группами: -0.048\n"
     ]
    }
   ],
   "source": [
    "# делаю расчеты статистической значимости различий в среднем чеке заказа между группами по данным очищенным от аномалий\n",
    "print('p-value:',\n",
    "    '{0:.3f}'.format(\n",
    "        st.mannwhitneyu(\n",
    "            orders[\n",
    "                np.logical_and(\n",
    "                    orders['group'] == 'A',\n",
    "                    np.logical_not(orders['visitor_id'].isin(abnormalUsers)),\n",
    "                )\n",
    "            ]['revenue'],\n",
    "            orders[\n",
    "                np.logical_and(\n",
    "                    orders['group'] == 'B',\n",
    "                    np.logical_not(orders['visitor_id'].isin(abnormalUsers)),\n",
    "                )\n",
    "            ]['revenue'],\n",
    "        )[1]\n",
    "    )\n",
    ")\n",
    "\n",
    "print('Относительное различие в среднем чеке между группами:',\n",
    "    \"{0:.3f}\".format(\n",
    "        orders[\n",
    "            np.logical_and(\n",
    "                orders['group'] == 'B',\n",
    "                np.logical_not(orders['visitor_id'].isin(abnormalUsers)),\n",
    "            )\n",
    "        ]['revenue'].mean()\n",
    "        / orders[\n",
    "            np.logical_and(\n",
    "                orders['group'] == 'A',\n",
    "                np.logical_not(orders['visitor_id'].isin(abnormalUsers)),\n",
    "            )\n",
    "        ]['revenue'].mean()\n",
    "        - 1\n",
    "    )\n",
    ")"
   ]
  },
  {
   "cell_type": "markdown",
   "id": "2c39802c",
   "metadata": {},
   "source": [
    "**P-value выше уровня статистической значимости. Нулевую гипотезу не отвергаем, различий в среднем чек между группами нет и с \"очищенными\" данными.**"
   ]
  },
  {
   "cell_type": "markdown",
   "id": "53b0ed23",
   "metadata": {},
   "source": [
    "**14. Выводы по результатам теста**"
   ]
  },
  {
   "cell_type": "markdown",
   "id": "ce6f2109",
   "metadata": {},
   "source": [
    "- Несколько аномалий (особенно в стоимости заказа) сильно искажают результаты.\n",
    "- Есть статистическое различие по среднему количеству заказов между группами в данных и до очистки данных и после. Относительное различие в количестве заказов в группе B по отношению к гурппе А составляет 16% по \"сырым\" данным и 18% по очищенным в пользу группы В.\n",
    "- Нет статистического различия в среднем чеке между группами.\n",
    "- График относительного различия среднего чека показывает, что результаты группы В ухудшаются.\n",
    "Исходя из полученных данных можно сделать вывод, что несмотря на большее количество заказов,средний чек при относительном различии ниже в группе В. \n",
    "\n",
    "**С учетом заметных тенденций на ухудшение результатов среднего чека, отсутствия предпосылок для роста количества заказов в группе В принять решение о том,чтобы остановить тест и зафиксировать победу группы А.**"
   ]
  }
 ],
 "metadata": {
  "ExecuteTimeLog": [
   {
    "duration": 1188,
    "start_time": "2022-11-06T15:17:39.775Z"
   },
   {
    "duration": 252,
    "start_time": "2022-11-06T15:17:40.965Z"
   },
   {
    "duration": 22,
    "start_time": "2022-11-06T15:17:41.218Z"
   },
   {
    "duration": 29,
    "start_time": "2022-11-06T15:17:41.564Z"
   },
   {
    "duration": 16,
    "start_time": "2022-11-06T15:17:42.693Z"
   },
   {
    "duration": 8,
    "start_time": "2022-11-06T15:17:42.999Z"
   },
   {
    "duration": 11,
    "start_time": "2022-11-06T15:18:04.741Z"
   },
   {
    "duration": 5,
    "start_time": "2022-11-06T15:52:09.795Z"
   },
   {
    "duration": 13,
    "start_time": "2022-11-06T15:59:33.636Z"
   },
   {
    "duration": 12,
    "start_time": "2022-11-06T16:00:39.177Z"
   },
   {
    "duration": 89,
    "start_time": "2022-11-06T16:04:22.502Z"
   },
   {
    "duration": 46,
    "start_time": "2022-11-06T16:05:03.341Z"
   },
   {
    "duration": 68,
    "start_time": "2022-11-06T16:05:07.823Z"
   },
   {
    "duration": 46,
    "start_time": "2022-11-06T16:05:20.937Z"
   },
   {
    "duration": 55,
    "start_time": "2022-11-06T16:06:29.471Z"
   },
   {
    "duration": 55,
    "start_time": "2022-11-06T16:06:51.598Z"
   },
   {
    "duration": 17,
    "start_time": "2022-11-06T16:24:46.099Z"
   },
   {
    "duration": 15,
    "start_time": "2022-11-06T16:24:58.826Z"
   },
   {
    "duration": 11,
    "start_time": "2022-11-06T16:25:30.846Z"
   },
   {
    "duration": 46,
    "start_time": "2022-11-06T16:25:35.138Z"
   },
   {
    "duration": 11,
    "start_time": "2022-11-06T16:25:35.968Z"
   },
   {
    "duration": 10,
    "start_time": "2022-11-06T16:25:43.570Z"
   },
   {
    "duration": 3,
    "start_time": "2022-11-06T16:26:07.651Z"
   },
   {
    "duration": 81,
    "start_time": "2022-11-06T16:26:08.011Z"
   },
   {
    "duration": 22,
    "start_time": "2022-11-06T16:26:08.424Z"
   },
   {
    "duration": 30,
    "start_time": "2022-11-06T16:26:09.181Z"
   },
   {
    "duration": 21,
    "start_time": "2022-11-06T16:26:10.463Z"
   },
   {
    "duration": 11,
    "start_time": "2022-11-06T16:26:10.868Z"
   },
   {
    "duration": 11,
    "start_time": "2022-11-06T16:26:13.792Z"
   },
   {
    "duration": 11,
    "start_time": "2022-11-06T16:26:14.686Z"
   },
   {
    "duration": 87,
    "start_time": "2022-11-06T16:26:17.859Z"
   },
   {
    "duration": 15,
    "start_time": "2022-11-06T16:26:19.422Z"
   },
   {
    "duration": 13,
    "start_time": "2022-11-06T16:26:36.096Z"
   },
   {
    "duration": 11,
    "start_time": "2022-11-06T16:26:47.221Z"
   },
   {
    "duration": 11,
    "start_time": "2022-11-06T16:27:14.475Z"
   },
   {
    "duration": 11,
    "start_time": "2022-11-06T16:28:04.187Z"
   },
   {
    "duration": 44,
    "start_time": "2022-11-06T16:28:12.894Z"
   },
   {
    "duration": 11,
    "start_time": "2022-11-06T16:28:18.249Z"
   },
   {
    "duration": 30,
    "start_time": "2022-11-06T16:29:12.474Z"
   },
   {
    "duration": 38,
    "start_time": "2022-11-06T16:29:32.123Z"
   },
   {
    "duration": 1977,
    "start_time": "2022-11-06T16:29:39.782Z"
   },
   {
    "duration": 811,
    "start_time": "2022-11-06T16:30:25.991Z"
   },
   {
    "duration": 541,
    "start_time": "2022-11-06T16:30:55.378Z"
   },
   {
    "duration": 533,
    "start_time": "2022-11-06T16:31:13.359Z"
   },
   {
    "duration": 66,
    "start_time": "2022-11-06T16:32:59.299Z"
   },
   {
    "duration": 101,
    "start_time": "2022-11-06T16:33:13.249Z"
   },
   {
    "duration": 12,
    "start_time": "2022-11-06T16:33:56.760Z"
   },
   {
    "duration": 2,
    "start_time": "2022-11-06T16:34:47.639Z"
   },
   {
    "duration": 129,
    "start_time": "2022-11-06T16:34:47.643Z"
   },
   {
    "duration": 18,
    "start_time": "2022-11-06T16:34:47.774Z"
   },
   {
    "duration": 40,
    "start_time": "2022-11-06T16:34:47.794Z"
   },
   {
    "duration": 14,
    "start_time": "2022-11-06T16:34:48.281Z"
   },
   {
    "duration": 13,
    "start_time": "2022-11-06T16:34:48.297Z"
   },
   {
    "duration": 10,
    "start_time": "2022-11-06T16:34:49.979Z"
   },
   {
    "duration": 11,
    "start_time": "2022-11-06T16:34:51.506Z"
   },
   {
    "duration": 71,
    "start_time": "2022-11-06T16:34:54.563Z"
   },
   {
    "duration": 107,
    "start_time": "2022-11-06T16:34:55.413Z"
   },
   {
    "duration": 36,
    "start_time": "2022-11-06T16:35:29.459Z"
   },
   {
    "duration": 36,
    "start_time": "2022-11-06T16:38:18.184Z"
   },
   {
    "duration": 12,
    "start_time": "2022-11-06T16:38:19.630Z"
   },
   {
    "duration": 2,
    "start_time": "2022-11-06T16:38:25.572Z"
   },
   {
    "duration": 72,
    "start_time": "2022-11-06T16:38:25.907Z"
   },
   {
    "duration": 16,
    "start_time": "2022-11-06T16:38:26.357Z"
   },
   {
    "duration": 26,
    "start_time": "2022-11-06T16:38:27.559Z"
   },
   {
    "duration": 14,
    "start_time": "2022-11-06T16:38:29.083Z"
   },
   {
    "duration": 9,
    "start_time": "2022-11-06T16:38:29.565Z"
   },
   {
    "duration": 11,
    "start_time": "2022-11-06T16:38:32.971Z"
   },
   {
    "duration": 10,
    "start_time": "2022-11-06T16:38:34.264Z"
   },
   {
    "duration": 61,
    "start_time": "2022-11-06T16:38:37.852Z"
   },
   {
    "duration": 103,
    "start_time": "2022-11-06T16:38:40.370Z"
   },
   {
    "duration": 38,
    "start_time": "2022-11-06T16:39:25.465Z"
   },
   {
    "duration": 250,
    "start_time": "2022-11-06T16:39:34.672Z"
   },
   {
    "duration": 241,
    "start_time": "2022-11-06T16:39:39.468Z"
   },
   {
    "duration": 221,
    "start_time": "2022-11-06T16:39:44.170Z"
   },
   {
    "duration": 326,
    "start_time": "2022-11-06T16:39:53.759Z"
   },
   {
    "duration": 299,
    "start_time": "2022-11-06T16:40:04.267Z"
   },
   {
    "duration": 174,
    "start_time": "2022-11-06T16:40:10.932Z"
   },
   {
    "duration": 230,
    "start_time": "2022-11-06T16:40:17.119Z"
   },
   {
    "duration": 129,
    "start_time": "2022-11-06T16:40:25.213Z"
   },
   {
    "duration": 13,
    "start_time": "2022-11-06T16:40:29.573Z"
   },
   {
    "duration": 142,
    "start_time": "2022-11-06T16:40:30.423Z"
   },
   {
    "duration": 205,
    "start_time": "2022-11-06T16:40:40.216Z"
   },
   {
    "duration": 119,
    "start_time": "2022-11-06T16:40:52.099Z"
   },
   {
    "duration": 120,
    "start_time": "2022-11-06T16:40:55.214Z"
   },
   {
    "duration": 5,
    "start_time": "2022-11-06T16:40:59.283Z"
   },
   {
    "duration": 204,
    "start_time": "2022-11-06T16:41:20.612Z"
   },
   {
    "duration": 153,
    "start_time": "2022-11-06T16:41:22.455Z"
   },
   {
    "duration": 11,
    "start_time": "2022-11-06T16:41:41.252Z"
   },
   {
    "duration": 9,
    "start_time": "2022-11-06T16:41:54.764Z"
   },
   {
    "duration": 25,
    "start_time": "2022-11-06T16:42:00.520Z"
   },
   {
    "duration": 13,
    "start_time": "2022-11-06T16:42:10.312Z"
   },
   {
    "duration": 37,
    "start_time": "2022-11-06T16:43:14.098Z"
   },
   {
    "duration": 37,
    "start_time": "2022-11-06T16:43:22.925Z"
   },
   {
    "duration": 125,
    "start_time": "2022-11-06T16:49:12.452Z"
   },
   {
    "duration": 4,
    "start_time": "2022-11-06T16:49:14.795Z"
   },
   {
    "duration": 2,
    "start_time": "2022-11-06T16:58:27.001Z"
   },
   {
    "duration": 75,
    "start_time": "2022-11-06T16:58:27.315Z"
   },
   {
    "duration": 18,
    "start_time": "2022-11-06T16:58:27.631Z"
   },
   {
    "duration": 25,
    "start_time": "2022-11-06T16:58:28.797Z"
   },
   {
    "duration": 15,
    "start_time": "2022-11-06T16:58:30.319Z"
   },
   {
    "duration": 10,
    "start_time": "2022-11-06T16:58:30.771Z"
   },
   {
    "duration": 10,
    "start_time": "2022-11-06T16:58:31.893Z"
   },
   {
    "duration": 13,
    "start_time": "2022-11-06T16:58:32.672Z"
   },
   {
    "duration": 46,
    "start_time": "2022-11-06T16:58:35.568Z"
   },
   {
    "duration": 5,
    "start_time": "2022-11-06T16:59:02.368Z"
   },
   {
    "duration": 6,
    "start_time": "2022-11-06T16:59:44.613Z"
   },
   {
    "duration": 3,
    "start_time": "2022-11-06T17:24:52.957Z"
   },
   {
    "duration": 73,
    "start_time": "2022-11-06T17:24:53.160Z"
   },
   {
    "duration": 17,
    "start_time": "2022-11-06T17:24:53.393Z"
   },
   {
    "duration": 28,
    "start_time": "2022-11-06T17:24:54.276Z"
   },
   {
    "duration": 13,
    "start_time": "2022-11-06T17:24:54.917Z"
   },
   {
    "duration": 9,
    "start_time": "2022-11-06T17:24:55.292Z"
   },
   {
    "duration": 11,
    "start_time": "2022-11-06T17:24:56.724Z"
   },
   {
    "duration": 12,
    "start_time": "2022-11-06T17:24:57.305Z"
   },
   {
    "duration": 9,
    "start_time": "2022-11-06T17:25:06.672Z"
   },
   {
    "duration": 57,
    "start_time": "2022-11-06T17:27:22.652Z"
   },
   {
    "duration": 13,
    "start_time": "2022-11-06T17:27:34.953Z"
   },
   {
    "duration": 190,
    "start_time": "2022-11-06T17:44:45.369Z"
   },
   {
    "duration": 244,
    "start_time": "2022-11-06T17:45:08.072Z"
   },
   {
    "duration": 365,
    "start_time": "2022-11-06T17:45:12.151Z"
   },
   {
    "duration": 201,
    "start_time": "2022-11-06T17:45:17.111Z"
   },
   {
    "duration": 255,
    "start_time": "2022-11-06T17:45:23.915Z"
   },
   {
    "duration": 14,
    "start_time": "2022-11-06T17:45:38.062Z"
   },
   {
    "duration": 216,
    "start_time": "2022-11-06T17:45:38.574Z"
   },
   {
    "duration": 74,
    "start_time": "2022-11-06T17:46:55.604Z"
   },
   {
    "duration": 5,
    "start_time": "2022-11-06T17:46:58.895Z"
   },
   {
    "duration": 66,
    "start_time": "2022-11-06T17:48:14.515Z"
   },
   {
    "duration": 122,
    "start_time": "2022-11-06T17:48:39.158Z"
   },
   {
    "duration": 205,
    "start_time": "2022-11-06T17:48:43.486Z"
   },
   {
    "duration": 5,
    "start_time": "2022-11-06T17:48:48.463Z"
   },
   {
    "duration": 149,
    "start_time": "2022-11-06T17:49:27.895Z"
   },
   {
    "duration": 13,
    "start_time": "2022-11-06T17:53:43.149Z"
   },
   {
    "duration": 12,
    "start_time": "2022-11-06T17:56:19.956Z"
   },
   {
    "duration": 71,
    "start_time": "2022-11-06T17:56:23.817Z"
   },
   {
    "duration": 3,
    "start_time": "2022-11-06T17:56:27.547Z"
   },
   {
    "duration": 17,
    "start_time": "2022-11-06T17:56:28.096Z"
   },
   {
    "duration": 12,
    "start_time": "2022-11-06T17:56:48.060Z"
   },
   {
    "duration": 5,
    "start_time": "2022-11-06T17:57:12.642Z"
   },
   {
    "duration": 10,
    "start_time": "2022-11-06T17:57:31.655Z"
   },
   {
    "duration": 5,
    "start_time": "2022-11-06T17:58:37.144Z"
   },
   {
    "duration": 12,
    "start_time": "2022-11-06T17:58:37.818Z"
   },
   {
    "duration": 27,
    "start_time": "2022-11-06T18:00:34.184Z"
   },
   {
    "duration": 15,
    "start_time": "2022-11-06T18:00:38.155Z"
   },
   {
    "duration": 4,
    "start_time": "2022-11-06T18:03:27.999Z"
   },
   {
    "duration": 8,
    "start_time": "2022-11-06T18:03:28.500Z"
   },
   {
    "duration": 26,
    "start_time": "2022-11-06T18:12:37.598Z"
   },
   {
    "duration": 1042,
    "start_time": "2022-11-06T18:49:59.881Z"
   },
   {
    "duration": 75,
    "start_time": "2022-11-06T18:50:00.925Z"
   },
   {
    "duration": 21,
    "start_time": "2022-11-06T18:50:01.001Z"
   },
   {
    "duration": 36,
    "start_time": "2022-11-06T18:50:01.023Z"
   },
   {
    "duration": 17,
    "start_time": "2022-11-06T18:50:01.061Z"
   },
   {
    "duration": 44,
    "start_time": "2022-11-06T18:50:01.079Z"
   },
   {
    "duration": 27,
    "start_time": "2022-11-06T18:50:01.125Z"
   },
   {
    "duration": 17,
    "start_time": "2022-11-06T18:50:01.154Z"
   },
   {
    "duration": 68,
    "start_time": "2022-11-06T18:50:01.173Z"
   },
   {
    "duration": 13,
    "start_time": "2022-11-06T18:50:01.242Z"
   },
   {
    "duration": 264,
    "start_time": "2022-11-06T18:50:01.256Z"
   },
   {
    "duration": 262,
    "start_time": "2022-11-06T18:50:01.522Z"
   },
   {
    "duration": 201,
    "start_time": "2022-11-06T18:50:01.785Z"
   },
   {
    "duration": 344,
    "start_time": "2022-11-06T18:50:01.990Z"
   },
   {
    "duration": 215,
    "start_time": "2022-11-06T18:50:02.337Z"
   },
   {
    "duration": 304,
    "start_time": "2022-11-06T18:50:02.553Z"
   },
   {
    "duration": 21,
    "start_time": "2022-11-06T18:50:02.859Z"
   },
   {
    "duration": 145,
    "start_time": "2022-11-06T18:50:02.882Z"
   },
   {
    "duration": 148,
    "start_time": "2022-11-06T18:50:03.029Z"
   },
   {
    "duration": 5,
    "start_time": "2022-11-06T18:50:03.179Z"
   },
   {
    "duration": 140,
    "start_time": "2022-11-06T18:50:03.185Z"
   },
   {
    "duration": 198,
    "start_time": "2022-11-06T18:50:03.327Z"
   },
   {
    "duration": 4,
    "start_time": "2022-11-06T18:50:03.526Z"
   },
   {
    "duration": 221,
    "start_time": "2022-11-06T18:50:03.532Z"
   },
   {
    "duration": 173,
    "start_time": "2022-11-06T18:50:03.755Z"
   },
   {
    "duration": 11,
    "start_time": "2022-11-06T18:50:03.929Z"
   },
   {
    "duration": 9,
    "start_time": "2022-11-06T18:50:03.942Z"
   },
   {
    "duration": 26,
    "start_time": "2022-11-06T18:50:03.952Z"
   },
   {
    "duration": 27,
    "start_time": "2022-11-06T18:50:03.980Z"
   },
   {
    "duration": 15,
    "start_time": "2022-11-06T18:50:04.009Z"
   }
  ],
  "celltoolbar": "Raw Cell Format",
  "kernelspec": {
   "display_name": "Python 3 (ipykernel)",
   "language": "python",
   "name": "python3"
  },
  "language_info": {
   "codemirror_mode": {
    "name": "ipython",
    "version": 3
   },
   "file_extension": ".py",
   "mimetype": "text/x-python",
   "name": "python",
   "nbconvert_exporter": "python",
   "pygments_lexer": "ipython3",
   "version": "3.9.12"
  },
  "toc": {
   "base_numbering": 1,
   "nav_menu": {},
   "number_sections": true,
   "sideBar": true,
   "skip_h1_title": true,
   "title_cell": "Table of Contents",
   "title_sidebar": "Contents",
   "toc_cell": false,
   "toc_position": {},
   "toc_section_display": true,
   "toc_window_display": false
  }
 },
 "nbformat": 4,
 "nbformat_minor": 5
}
